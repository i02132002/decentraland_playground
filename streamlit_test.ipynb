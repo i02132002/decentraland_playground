{
 "cells": [
  {
   "cell_type": "code",
   "execution_count": 1,
   "metadata": {},
   "outputs": [
    {
     "name": "stderr",
     "output_type": "stream",
     "text": [
      "2022-05-11 23:37:58.196 INFO    numexpr.utils: NumExpr defaulting to 4 threads.\n"
     ]
    }
   ],
   "source": [
    "import streamlit as st"
   ]
  },
  {
   "cell_type": "code",
   "execution_count": 2,
   "metadata": {},
   "outputs": [],
   "source": [
    "import pandas as pd\n",
    "import numpy as np\n"
   ]
  },
  {
   "cell_type": "code",
   "execution_count": 108,
   "metadata": {},
   "outputs": [
    {
     "data": {
      "text/plain": [
       "<module 'get_marketplace_data' from '/Users/fliou/python_projects/decentraland_playground/get_marketplace_data.py'>"
      ]
     },
     "execution_count": 108,
     "metadata": {},
     "output_type": "execute_result"
    }
   ],
   "source": [
    "import get_marketplace_data as gmd\n",
    "import importlib\n",
    "importlib.reload(gmd)"
   ]
  },
  {
   "cell_type": "code",
   "execution_count": 17,
   "metadata": {},
   "outputs": [],
   "source": [
    "import plotly.express as px\n",
    "import plotly.graph_objects as go\n",
    "from plotly.graph_objects import Layout"
   ]
  },
  {
   "cell_type": "code",
   "execution_count": 5,
   "metadata": {
    "scrolled": true
   },
   "outputs": [],
   "source": [
    "roads = pd.read_csv('roads.csv')"
   ]
  },
  {
   "cell_type": "code",
   "execution_count": 6,
   "metadata": {},
   "outputs": [],
   "source": [
    "xx, yy = range(-150,151), range(-150,151)\n",
    "XX,YY = np.meshgrid([x for x in xx], [y for y in yy])\n",
    "XXYY = [i for i in zip(XX,YY)]"
   ]
  },
  {
   "cell_type": "code",
   "execution_count": 161,
   "metadata": {},
   "outputs": [
    {
     "name": "stdout",
     "output_type": "stream",
     "text": [
      "last updated at: 2022-05-13\n"
     ]
    }
   ],
   "source": [
    "parcel_model = pd.read_csv('parcel_model.csv')\n",
    "on_sale_parcels = gmd.get_on_sale_parcels()"
   ]
  },
  {
   "cell_type": "code",
   "execution_count": 96,
   "metadata": {},
   "outputs": [
    {
     "name": "stdout",
     "output_type": "stream",
     "text": [
      "[*********************100%***********************]  1 of 1 completed\n"
     ]
    }
   ],
   "source": [
    "import yfinance\n",
    "mana_price = yfinance.download('MANA-USD')\n"
   ]
  },
  {
   "cell_type": "code",
   "execution_count": 105,
   "metadata": {
    "scrolled": true
   },
   "outputs": [
    {
     "data": {
      "text/plain": [
       "0.3040279746055603"
      ]
     },
     "execution_count": 105,
     "metadata": {},
     "output_type": "execute_result"
    }
   ],
   "source": [
    "recent_mana = yfinance.Ticker('MANA-USD').history(period='2d', interval='1h')\n",
    "(recent_mana.iloc[-1] - recent_mana.iloc[-25]).Close"
   ]
  },
  {
   "cell_type": "code",
   "execution_count": 19,
   "metadata": {},
   "outputs": [
    {
     "name": "stdout",
     "output_type": "stream",
     "text": [
      "131 ms ± 0 ns per loop (mean ± std. dev. of 1 run, 1 loop each)\n"
     ]
    }
   ],
   "source": [
    "%%timeit -r 1 -n 1\n",
    "xx, yy = range(-150,151), range(-150,151)\n",
    "XX,YY = np.meshgrid([x for x in xx], [y for y in yy])\n",
    "all_p = pd.DataFrame({'x': XX.flatten(), 'y': YY.flatten()})\n",
    "CURRENT_MANA_PRICE = mana_price.iloc[-1].Close\n",
    "TEN_DAY_AVG = 15000 / CURRENT_MANA_PRICE #In MANA\n",
    "all_p = all_p.merge(on_sale_parcels[['x','y','price']], on=['x','y'], how='left')\n",
    "all_p['price_usd'] = all_p.price * CURRENT_MANA_PRICE\n",
    "all_p['norm_price'] = all_p.price / TEN_DAY_AVG\n",
    "all_p = all_p.merge(parcel_model, on=['x','y'], how='left').rename(columns={'y_pred':'norm_price_pred'})\n",
    "all_p['price_pred_usd'] = all_p.norm_price_pred * TEN_DAY_AVG * CURRENT_MANA_PRICE\n",
    "all_p['p_ratio'] = all_p.norm_price / all_p.norm_price_pred"
   ]
  },
  {
   "cell_type": "code",
   "execution_count": 64,
   "metadata": {},
   "outputs": [
    {
     "name": "stdout",
     "output_type": "stream",
     "text": [
      "435 ms ± 0 ns per loop (mean ± std. dev. of 1 run, 1 loop each)\n"
     ]
    }
   ],
   "source": [
    "hovertext = ('x: ' + all_p.x.astype(str) + \n",
    "', y: ' + all_p.y.astype(str) + \n",
    "'<br />price ($): ' + all_p.price_usd.astype(str) +\n",
    "'<br />predicted price ($): ' + all_p.price_pred_usd.astype(str) +\n",
    "'<br />ratio: {}' + all_p.p_ratio.astype(str)\n",
    ")"
   ]
  },
  {
   "cell_type": "code",
   "execution_count": 47,
   "metadata": {},
   "outputs": [
    {
     "data": {
      "text/plain": [
       "'x: 0        -150\\n1        -149\\n2        -148\\n3        -147\\n4        -146\\n         ... \\n90596     146\\n90597     147\\n90598     148\\n90599     149\\n90600     150\\nName: x, Length: 90601, dtype: object, y: 0        -150\\n1        -150\\n2        -150\\n3        -150\\n4        -150\\n         ... \\n90596     150\\n90597     150\\n90598     150\\n90599     150\\n90600     150\\nName: y, Length: 90601, dtype: object'"
      ]
     },
     "execution_count": 47,
     "metadata": {},
     "output_type": "execute_result"
    }
   ],
   "source": [
    "'x: {}, y: {}'.format(\n",
    "all_p.x.astype(str), all_p.y.astype(str)\n",
    ") + ''"
   ]
  },
  {
   "cell_type": "code",
   "execution_count": 40,
   "metadata": {},
   "outputs": [
    {
     "data": {
      "text/plain": [
       "'x: 0        -150\\n1        -149\\n2        -148\\n3        -147\\n4        -146\\n         ... \\n90596     146\\n90597     147\\n90598     148\\n90599     149\\n90600     150\\nName: x, Length: 90601, dtype: object, y: 0        -150\\n1        -150\\n2        -150\\n3        -150\\n4        -150\\n         ... \\n90596     150\\n90597     150\\n90598     150\\n90599     150\\n90600     150\\nName: y, Length: 90601, dtype: object<br />price ($): 0        nan\\n1        nan\\n2        nan\\n3        nan\\n4        nan\\n        ... \\n90596    nan\\n90597    nan\\n90598    nan\\n90599    nan\\n90600    nan\\nName: price_usd, Length: 90601, dtype: object<br />predicted price ($): 0         10144.67963710078\\n1         10144.67963710078\\n2         10144.67963710078\\n3         10144.67963710078\\n4         10144.67963710078\\n                ...        \\n90596     13111.37780207889\\n90597     13111.37780207889\\n90598     13111.37780207889\\n90599     13111.37780207889\\n90600    13151.253082165595\\nName: price_pred_usd, Length: 90601, dtype: object<br />ratio: 0        nan\\n1        nan\\n2        nan\\n3        nan\\n4        nan\\n        ... \\n90596    nan\\n90597    nan\\n90598    nan\\n90599    nan\\n90600    nan\\nName: p_ratio, Length: 90601, dtype: object'"
      ]
     },
     "execution_count": 40,
     "metadata": {},
     "output_type": "execute_result"
    }
   ],
   "source": [
    "'x: {}, y: {}<br />price ($): {}<br />predicted price ($): {}<br />ratio: {}'.format(\n",
    "all_p.x.astype(str), all_p.y.astype(str), all_p.price_usd.astype(str), all_p.price_pred_usd.astype(str), all_p.p_ratio.astype(str)\n",
    ")"
   ]
  },
  {
   "cell_type": "code",
   "execution_count": 35,
   "metadata": {},
   "outputs": [
    {
     "name": "stdout",
     "output_type": "stream",
     "text": [
      "357 ms ± 0 ns per loop (mean ± std. dev. of 1 run, 1 loop each)\n"
     ]
    }
   ],
   "source": [
    "%%timeit -r 1 -n 1\n"
   ]
  },
  {
   "cell_type": "code",
   "execution_count": 26,
   "metadata": {},
   "outputs": [
    {
     "name": "stdout",
     "output_type": "stream",
     "text": [
      "7.57 s ± 0 ns per loop (mean ± std. dev. of 1 run, 1 loop each)\n"
     ]
    }
   ],
   "source": [
    "%%timeit -r 1 -n 1\n",
    "hovertext = list(all_p.apply(lambda x: 'x: {}, y: {}<br />price ($): {}<br />predicted price ($): {}<br />ratio: {}'\n",
    "                             .format(x.x, x.y, nround(x.price_usd), nround(x.price_pred_usd), nround(x.p_ratio,2)), axis='columns'))\n"
   ]
  },
  {
   "cell_type": "code",
   "execution_count": 70,
   "metadata": {},
   "outputs": [
    {
     "data": {
      "text/plain": [
       "2"
      ]
     },
     "execution_count": 70,
     "metadata": {},
     "output_type": "execute_result"
    }
   ],
   "source": [
    "nround(2.3122,0)"
   ]
  },
  {
   "cell_type": "code",
   "execution_count": 80,
   "metadata": {},
   "outputs": [
    {
     "data": {
      "text/plain": [
       "'4489'"
      ]
     },
     "execution_count": 80,
     "metadata": {},
     "output_type": "execute_result"
    }
   ],
   "source": [
    "str(nround(all_p.iloc[132].price_usd))"
   ]
  },
  {
   "cell_type": "code",
   "execution_count": 81,
   "metadata": {},
   "outputs": [
    {
     "data": {
      "text/plain": [
       "'None'"
      ]
     },
     "execution_count": 81,
     "metadata": {},
     "output_type": "execute_result"
    }
   ],
   "source": [
    "str(None)"
   ]
  },
  {
   "cell_type": "code",
   "execution_count": 75,
   "metadata": {},
   "outputs": [
    {
     "data": {
      "text/html": [
       "<div>\n",
       "<style scoped>\n",
       "    .dataframe tbody tr th:only-of-type {\n",
       "        vertical-align: middle;\n",
       "    }\n",
       "\n",
       "    .dataframe tbody tr th {\n",
       "        vertical-align: top;\n",
       "    }\n",
       "\n",
       "    .dataframe thead th {\n",
       "        text-align: right;\n",
       "    }\n",
       "</style>\n",
       "<table border=\"1\" class=\"dataframe\">\n",
       "  <thead>\n",
       "    <tr style=\"text-align: right;\">\n",
       "      <th></th>\n",
       "      <th>x</th>\n",
       "      <th>y</th>\n",
       "      <th>price</th>\n",
       "      <th>price_usd</th>\n",
       "      <th>norm_price</th>\n",
       "      <th>norm_price_pred</th>\n",
       "      <th>price_pred_usd</th>\n",
       "      <th>p_ratio</th>\n",
       "    </tr>\n",
       "  </thead>\n",
       "  <tbody>\n",
       "    <tr>\n",
       "      <th>132</th>\n",
       "      <td>-18</td>\n",
       "      <td>-150</td>\n",
       "      <td>6500.0</td>\n",
       "      <td>4489.334941</td>\n",
       "      <td>0.299289</td>\n",
       "      <td>0.731816</td>\n",
       "      <td>10977.242599</td>\n",
       "      <td>0.408967</td>\n",
       "    </tr>\n",
       "    <tr>\n",
       "      <th>570</th>\n",
       "      <td>119</td>\n",
       "      <td>-149</td>\n",
       "      <td>24899.0</td>\n",
       "      <td>17196.915491</td>\n",
       "      <td>1.146461</td>\n",
       "      <td>0.974256</td>\n",
       "      <td>14613.845153</td>\n",
       "      <td>1.176755</td>\n",
       "    </tr>\n",
       "    <tr>\n",
       "      <th>587</th>\n",
       "      <td>136</td>\n",
       "      <td>-149</td>\n",
       "      <td>12250.0</td>\n",
       "      <td>8460.669696</td>\n",
       "      <td>0.564045</td>\n",
       "      <td>0.972155</td>\n",
       "      <td>14582.327923</td>\n",
       "      <td>0.580200</td>\n",
       "    </tr>\n",
       "    <tr>\n",
       "      <th>591</th>\n",
       "      <td>140</td>\n",
       "      <td>-149</td>\n",
       "      <td>25000.0</td>\n",
       "      <td>17266.672850</td>\n",
       "      <td>1.151112</td>\n",
       "      <td>0.971181</td>\n",
       "      <td>14567.722113</td>\n",
       "      <td>1.185269</td>\n",
       "    </tr>\n",
       "    <tr>\n",
       "      <th>593</th>\n",
       "      <td>142</td>\n",
       "      <td>-149</td>\n",
       "      <td>24999.0</td>\n",
       "      <td>17265.982183</td>\n",
       "      <td>1.151065</td>\n",
       "      <td>0.968094</td>\n",
       "      <td>14521.416400</td>\n",
       "      <td>1.189001</td>\n",
       "    </tr>\n",
       "  </tbody>\n",
       "</table>\n",
       "</div>"
      ],
      "text/plain": [
       "       x    y    price     price_usd  norm_price  norm_price_pred  \\\n",
       "132  -18 -150   6500.0   4489.334941    0.299289         0.731816   \n",
       "570  119 -149  24899.0  17196.915491    1.146461         0.974256   \n",
       "587  136 -149  12250.0   8460.669696    0.564045         0.972155   \n",
       "591  140 -149  25000.0  17266.672850    1.151112         0.971181   \n",
       "593  142 -149  24999.0  17265.982183    1.151065         0.968094   \n",
       "\n",
       "     price_pred_usd   p_ratio  \n",
       "132    10977.242599  0.408967  \n",
       "570    14613.845153  1.176755  \n",
       "587    14582.327923  0.580200  \n",
       "591    14567.722113  1.185269  \n",
       "593    14521.416400  1.189001  "
      ]
     },
     "execution_count": 75,
     "metadata": {},
     "output_type": "execute_result"
    }
   ],
   "source": [
    "all_p[~all_p.price_usd.isna()].head()"
   ]
  },
  {
   "cell_type": "code",
   "execution_count": 93,
   "metadata": {},
   "outputs": [
    {
     "data": {
      "text/plain": [
       "1"
      ]
     },
     "execution_count": 93,
     "metadata": {},
     "output_type": "execute_result"
    }
   ],
   "source": [
    "abs(-1)"
   ]
  },
  {
   "cell_type": "code",
   "execution_count": 95,
   "metadata": {},
   "outputs": [
    {
     "data": {
      "text/plain": [
       "0"
      ]
     },
     "execution_count": 95,
     "metadata": {},
     "output_type": "execute_result"
    }
   ],
   "source": [
    "1 if False else 0"
   ]
  },
  {
   "cell_type": "code",
   "execution_count": 92,
   "metadata": {},
   "outputs": [
    {
     "data": {
      "text/plain": [
       "0       -151\n",
       "1       -150\n",
       "2       -149\n",
       "3       -148\n",
       "4       -147\n",
       "        ... \n",
       "90596    145\n",
       "90597    146\n",
       "90598    147\n",
       "90599    148\n",
       "90600    149\n",
       "Name: x, Length: 90601, dtype: int64"
      ]
     },
     "execution_count": 92,
     "metadata": {},
     "output_type": "execute_result"
    }
   ],
   "source": [
    "all_p.x - 1"
   ]
  },
  {
   "cell_type": "code",
   "execution_count": 89,
   "metadata": {
    "scrolled": true
   },
   "outputs": [
    {
     "data": {
      "text/html": [
       "<div>\n",
       "<style scoped>\n",
       "    .dataframe tbody tr th:only-of-type {\n",
       "        vertical-align: middle;\n",
       "    }\n",
       "\n",
       "    .dataframe tbody tr th {\n",
       "        vertical-align: top;\n",
       "    }\n",
       "\n",
       "    .dataframe thead th {\n",
       "        text-align: right;\n",
       "    }\n",
       "</style>\n",
       "<table border=\"1\" class=\"dataframe\">\n",
       "  <thead>\n",
       "    <tr style=\"text-align: right;\">\n",
       "      <th></th>\n",
       "      <th>x</th>\n",
       "      <th>y</th>\n",
       "      <th>price</th>\n",
       "      <th>price_usd</th>\n",
       "      <th>norm_price</th>\n",
       "      <th>norm_price_pred</th>\n",
       "      <th>price_pred_usd</th>\n",
       "      <th>p_ratio</th>\n",
       "    </tr>\n",
       "  </thead>\n",
       "  <tbody>\n",
       "    <tr>\n",
       "      <th>132</th>\n",
       "      <td>-18</td>\n",
       "      <td>-150</td>\n",
       "      <td>6500.0</td>\n",
       "      <td>4489.334941</td>\n",
       "      <td>0.299289</td>\n",
       "      <td>0.731816</td>\n",
       "      <td>10977.242599</td>\n",
       "      <td>0.408967</td>\n",
       "    </tr>\n",
       "    <tr>\n",
       "      <th>587</th>\n",
       "      <td>136</td>\n",
       "      <td>-149</td>\n",
       "      <td>12250.0</td>\n",
       "      <td>8460.669696</td>\n",
       "      <td>0.564045</td>\n",
       "      <td>0.972155</td>\n",
       "      <td>14582.327923</td>\n",
       "      <td>0.580200</td>\n",
       "    </tr>\n",
       "    <tr>\n",
       "      <th>1202</th>\n",
       "      <td>149</td>\n",
       "      <td>-147</td>\n",
       "      <td>5000.0</td>\n",
       "      <td>3453.334570</td>\n",
       "      <td>0.230222</td>\n",
       "      <td>0.965761</td>\n",
       "      <td>14486.420973</td>\n",
       "      <td>0.238384</td>\n",
       "    </tr>\n",
       "    <tr>\n",
       "      <th>1204</th>\n",
       "      <td>-150</td>\n",
       "      <td>-146</td>\n",
       "      <td>7788.0</td>\n",
       "      <td>5378.913926</td>\n",
       "      <td>0.358594</td>\n",
       "      <td>0.674190</td>\n",
       "      <td>10112.842837</td>\n",
       "      <td>0.531889</td>\n",
       "    </tr>\n",
       "    <tr>\n",
       "      <th>2030</th>\n",
       "      <td>74</td>\n",
       "      <td>-144</td>\n",
       "      <td>12000.0</td>\n",
       "      <td>8288.002968</td>\n",
       "      <td>0.552534</td>\n",
       "      <td>1.118093</td>\n",
       "      <td>16771.395791</td>\n",
       "      <td>0.494175</td>\n",
       "    </tr>\n",
       "    <tr>\n",
       "      <th>...</th>\n",
       "      <td>...</td>\n",
       "      <td>...</td>\n",
       "      <td>...</td>\n",
       "      <td>...</td>\n",
       "      <td>...</td>\n",
       "      <td>...</td>\n",
       "      <td>...</td>\n",
       "      <td>...</td>\n",
       "    </tr>\n",
       "    <tr>\n",
       "      <th>88583</th>\n",
       "      <td>-61</td>\n",
       "      <td>144</td>\n",
       "      <td>9999.0</td>\n",
       "      <td>6905.978473</td>\n",
       "      <td>0.460399</td>\n",
       "      <td>0.825795</td>\n",
       "      <td>12386.927979</td>\n",
       "      <td>0.557521</td>\n",
       "    </tr>\n",
       "    <tr>\n",
       "      <th>88918</th>\n",
       "      <td>-27</td>\n",
       "      <td>145</td>\n",
       "      <td>9999.0</td>\n",
       "      <td>6905.978473</td>\n",
       "      <td>0.460399</td>\n",
       "      <td>0.746010</td>\n",
       "      <td>11190.156260</td>\n",
       "      <td>0.617148</td>\n",
       "    </tr>\n",
       "    <tr>\n",
       "      <th>89548</th>\n",
       "      <td>1</td>\n",
       "      <td>147</td>\n",
       "      <td>9500.0</td>\n",
       "      <td>6561.335683</td>\n",
       "      <td>0.437422</td>\n",
       "      <td>0.681216</td>\n",
       "      <td>10218.242351</td>\n",
       "      <td>0.642120</td>\n",
       "    </tr>\n",
       "    <tr>\n",
       "      <th>89811</th>\n",
       "      <td>-37</td>\n",
       "      <td>148</td>\n",
       "      <td>10000.0</td>\n",
       "      <td>6906.669140</td>\n",
       "      <td>0.460445</td>\n",
       "      <td>0.663053</td>\n",
       "      <td>9945.796277</td>\n",
       "      <td>0.694431</td>\n",
       "    </tr>\n",
       "    <tr>\n",
       "      <th>90112</th>\n",
       "      <td>-37</td>\n",
       "      <td>149</td>\n",
       "      <td>10000.0</td>\n",
       "      <td>6906.669140</td>\n",
       "      <td>0.460445</td>\n",
       "      <td>0.662529</td>\n",
       "      <td>9937.933915</td>\n",
       "      <td>0.694980</td>\n",
       "    </tr>\n",
       "  </tbody>\n",
       "</table>\n",
       "<p>244 rows × 8 columns</p>\n",
       "</div>"
      ],
      "text/plain": [
       "         x    y    price    price_usd  norm_price  norm_price_pred  \\\n",
       "132    -18 -150   6500.0  4489.334941    0.299289         0.731816   \n",
       "587    136 -149  12250.0  8460.669696    0.564045         0.972155   \n",
       "1202   149 -147   5000.0  3453.334570    0.230222         0.965761   \n",
       "1204  -150 -146   7788.0  5378.913926    0.358594         0.674190   \n",
       "2030    74 -144  12000.0  8288.002968    0.552534         1.118093   \n",
       "...    ...  ...      ...          ...         ...              ...   \n",
       "88583  -61  144   9999.0  6905.978473    0.460399         0.825795   \n",
       "88918  -27  145   9999.0  6905.978473    0.460399         0.746010   \n",
       "89548    1  147   9500.0  6561.335683    0.437422         0.681216   \n",
       "89811  -37  148  10000.0  6906.669140    0.460445         0.663053   \n",
       "90112  -37  149  10000.0  6906.669140    0.460445         0.662529   \n",
       "\n",
       "       price_pred_usd   p_ratio  \n",
       "132      10977.242599  0.408967  \n",
       "587      14582.327923  0.580200  \n",
       "1202     14486.420973  0.238384  \n",
       "1204     10112.842837  0.531889  \n",
       "2030     16771.395791  0.494175  \n",
       "...               ...       ...  \n",
       "88583    12386.927979  0.557521  \n",
       "88918    11190.156260  0.617148  \n",
       "89548    10218.242351  0.642120  \n",
       "89811     9945.796277  0.694431  \n",
       "90112     9937.933915  0.694980  \n",
       "\n",
       "[244 rows x 8 columns]"
      ]
     },
     "execution_count": 89,
     "metadata": {},
     "output_type": "execute_result"
    }
   ],
   "source": [
    "all_p[(~all_p.price_usd.isna()) \n",
    "      & (all_p.price_usd < 10_000)]"
   ]
  },
  {
   "cell_type": "code",
   "execution_count": 84,
   "metadata": {},
   "outputs": [
    {
     "name": "stdout",
     "output_type": "stream",
     "text": [
      "645 ms ± 0 ns per loop (mean ± std. dev. of 1 run, 1 loop each)\n"
     ]
    }
   ],
   "source": [
    "def nround(n, m=0):\n",
    "    try:\n",
    "        if m == 0:\n",
    "            return round(n)\n",
    "        else:\n",
    "            return round(n, m)\n",
    "    except (ValueError, TypeError):\n",
    "        return None\n",
    "\n",
    "hovertext = ('x: ' + all_p.x.astype(str) + \n",
    "', y: ' + all_p.y.astype(str) + \n",
    "'<br />price ($): ' + nround(all_p.price_usd).astype(str) +\n",
    "'<br />predicted price ($): ' + nround(all_p.price_pred_usd).astype(str) +\n",
    "'<br />ratio: ' + nround(all_p.p_ratio,2).astype(str)\n",
    ")\n",
    "\n",
    "layout = Layout(\n",
    "    paper_bgcolor='rgba(0,0,0,0)',\n",
    "    plot_bgcolor='rgba(0,0,0,0)',\n",
    ")\n",
    "\n",
    "fig = go.Figure(layout=layout)\n",
    "\n",
    "fig.add_trace(go.Histogram2d(\n",
    "    x=roads.x,\n",
    "    y=roads.y,\n",
    "    nbinsx=301,\n",
    "    nbinsy=301,\n",
    "    hoverinfo = 'skip',\n",
    "    colorscale = ['#c5c9c7','#87ae73'],\n",
    "    ))\n",
    "\n",
    "fig.update_traces(showscale=False)\n",
    "\n",
    "fig.add_trace(go.Heatmap(\n",
    "    x=all_p.x,\n",
    "    y=all_p.y,\n",
    "    z=all_p.p_ratio,\n",
    "    hoverinfo='text',\n",
    "    text=hovertext,\n",
    "    hoverongaps = False,\n",
    "    colorscale = 'RdYlBu',\n",
    "    reversescale = True,\n",
    "    zmin = 0,\n",
    "    zmid = 1,\n",
    "    zmax = 2\n",
    "))\n",
    "\n",
    "\n",
    "\n",
    "fig.update_yaxes(\n",
    "    scaleanchor = \"x\",\n",
    "    scaleratio = 1,\n",
    "    visible =False\n",
    ")\n",
    "\n",
    "fig.update_xaxes(\n",
    "    visible =False\n",
    ")\n",
    "fig.update_layout(\n",
    "    width=600,\n",
    "    height=600,\n",
    "    margin=dict(\n",
    "        l=10,\n",
    "        r=10,\n",
    "        b=10,\n",
    "        t=10,\n",
    "        pad=10\n",
    "    ),\n",
    "  )\n",
    "\n"
   ]
  },
  {
   "cell_type": "code",
   "execution_count": 336,
   "metadata": {},
   "outputs": [
    {
     "data": {
      "text/html": [
       "<div>\n",
       "<style scoped>\n",
       "    .dataframe tbody tr th:only-of-type {\n",
       "        vertical-align: middle;\n",
       "    }\n",
       "\n",
       "    .dataframe tbody tr th {\n",
       "        vertical-align: top;\n",
       "    }\n",
       "\n",
       "    .dataframe thead th {\n",
       "        text-align: right;\n",
       "    }\n",
       "</style>\n",
       "<table border=\"1\" class=\"dataframe\">\n",
       "  <thead>\n",
       "    <tr style=\"text-align: right;\">\n",
       "      <th></th>\n",
       "      <th>x</th>\n",
       "      <th>y</th>\n",
       "      <th>price_usd</th>\n",
       "      <th>price_pred_usd</th>\n",
       "      <th>p_ratio</th>\n",
       "    </tr>\n",
       "  </thead>\n",
       "  <tbody>\n",
       "    <tr>\n",
       "      <th>17018</th>\n",
       "      <td>12</td>\n",
       "      <td>-94</td>\n",
       "      <td>14792.819879</td>\n",
       "      <td>59580.234375</td>\n",
       "      <td>0.248284</td>\n",
       "    </tr>\n",
       "    <tr>\n",
       "      <th>56737</th>\n",
       "      <td>-1</td>\n",
       "      <td>38</td>\n",
       "      <td>13914.754453</td>\n",
       "      <td>48648.769158</td>\n",
       "      <td>0.286025</td>\n",
       "    </tr>\n",
       "    <tr>\n",
       "      <th>49970</th>\n",
       "      <td>-146</td>\n",
       "      <td>16</td>\n",
       "      <td>5738.989711</td>\n",
       "      <td>20006.124933</td>\n",
       "      <td>0.286862</td>\n",
       "    </tr>\n",
       "    <tr>\n",
       "      <th>78372</th>\n",
       "      <td>-38</td>\n",
       "      <td>110</td>\n",
       "      <td>9756.282508</td>\n",
       "      <td>33371.606215</td>\n",
       "      <td>0.292353</td>\n",
       "    </tr>\n",
       "    <tr>\n",
       "      <th>27793</th>\n",
       "      <td>-49</td>\n",
       "      <td>-58</td>\n",
       "      <td>15940.617821</td>\n",
       "      <td>52424.983920</td>\n",
       "      <td>0.304065</td>\n",
       "    </tr>\n",
       "    <tr>\n",
       "      <th>81049</th>\n",
       "      <td>-70</td>\n",
       "      <td>119</td>\n",
       "      <td>10329.033682</td>\n",
       "      <td>32341.959867</td>\n",
       "      <td>0.319369</td>\n",
       "    </tr>\n",
       "    <tr>\n",
       "      <th>40608</th>\n",
       "      <td>124</td>\n",
       "      <td>-16</td>\n",
       "      <td>4987.182059</td>\n",
       "      <td>15213.442769</td>\n",
       "      <td>0.327814</td>\n",
       "    </tr>\n",
       "    <tr>\n",
       "      <th>40001</th>\n",
       "      <td>119</td>\n",
       "      <td>-18</td>\n",
       "      <td>4992.921048</td>\n",
       "      <td>15214.520858</td>\n",
       "      <td>0.328168</td>\n",
       "    </tr>\n",
       "    <tr>\n",
       "      <th>81382</th>\n",
       "      <td>-38</td>\n",
       "      <td>120</td>\n",
       "      <td>10312.964510</td>\n",
       "      <td>31404.696067</td>\n",
       "      <td>0.328389</td>\n",
       "    </tr>\n",
       "    <tr>\n",
       "      <th>46137</th>\n",
       "      <td>-66</td>\n",
       "      <td>3</td>\n",
       "      <td>5725.216136</td>\n",
       "      <td>17237.144053</td>\n",
       "      <td>0.332144</td>\n",
       "    </tr>\n",
       "  </tbody>\n",
       "</table>\n",
       "</div>"
      ],
      "text/plain": [
       "         x    y     price_usd  price_pred_usd   p_ratio\n",
       "17018   12  -94  14792.819879    59580.234375  0.248284\n",
       "56737   -1   38  13914.754453    48648.769158  0.286025\n",
       "49970 -146   16   5738.989711    20006.124933  0.286862\n",
       "78372  -38  110   9756.282508    33371.606215  0.292353\n",
       "27793  -49  -58  15940.617821    52424.983920  0.304065\n",
       "81049  -70  119  10329.033682    32341.959867  0.319369\n",
       "40608  124  -16   4987.182059    15213.442769  0.327814\n",
       "40001  119  -18   4992.921048    15214.520858  0.328168\n",
       "81382  -38  120  10312.964510    31404.696067  0.328389\n",
       "46137  -66    3   5725.216136    17237.144053  0.332144"
      ]
     },
     "execution_count": 336,
     "metadata": {},
     "output_type": "execute_result"
    }
   ],
   "source": [
    "all_p.sort_values(by='p_ratio')[:10][['x','y','price_usd','price_pred_usd','p_ratio']]"
   ]
  },
  {
   "cell_type": "code",
   "execution_count": 33,
   "metadata": {
    "scrolled": true
   },
   "outputs": [
    {
     "data": {
      "text/plain": [
       "1.14779794216156"
      ]
     },
     "execution_count": 33,
     "metadata": {},
     "output_type": "execute_result"
    }
   ],
   "source": [
    "mana_price.iloc[-1].Close"
   ]
  },
  {
   "cell_type": "code",
   "execution_count": 30,
   "metadata": {},
   "outputs": [
    {
     "name": "stdout",
     "output_type": "stream",
     "text": [
      "1.1517755\n"
     ]
    }
   ],
   "source": [
    "stock = yf.Ticker(\"MANA-USD\")\n",
    "price = stock.info['regularMarketPrice']\n",
    "print(price)"
   ]
  },
  {
   "cell_type": "code",
   "execution_count": 158,
   "metadata": {},
   "outputs": [
    {
     "data": {
      "text/plain": [
       "<module 'get_marketplace_data' from '/Users/fliou/python_projects/decentraland_playground/get_marketplace_data.py'>"
      ]
     },
     "execution_count": 158,
     "metadata": {},
     "output_type": "execute_result"
    }
   ],
   "source": [
    "import get_marketplace_data as gmd\n",
    "import importlib\n",
    "importlib.reload(gmd)"
   ]
  },
  {
   "cell_type": "code",
   "execution_count": 159,
   "metadata": {
    "scrolled": true
   },
   "outputs": [
    {
     "name": "stdout",
     "output_type": "stream",
     "text": [
      "last updated at: 2022-05-13\n"
     ]
    }
   ],
   "source": [
    "df = gmd.get_historic_parcels()"
   ]
  },
  {
   "cell_type": "code",
   "execution_count": 160,
   "metadata": {
    "scrolled": true
   },
   "outputs": [
    {
     "data": {
      "text/plain": [
       "5332.79381443299"
      ]
     },
     "execution_count": 160,
     "metadata": {},
     "output_type": "execute_result"
    }
   ],
   "source": [
    "df.price.mean()"
   ]
  },
  {
   "cell_type": "code",
   "execution_count": 109,
   "metadata": {},
   "outputs": [],
   "source": [
    "import seaborn as sns\n",
    "import matplotlib.pyplot as plt\n",
    "sns.set()"
   ]
  },
  {
   "cell_type": "code",
   "execution_count": 110,
   "metadata": {},
   "outputs": [
    {
     "data": {
      "text/plain": [
       "<matplotlib.collections.PathCollection at 0x1a2ac5a090>"
      ]
     },
     "execution_count": 110,
     "metadata": {},
     "output_type": "execute_result"
    },
    {
     "data": {
      "image/png": "[encoded data removed]",
      "text/plain": [
       "<Figure size 432x288 with 1 Axes>"
      ]
     },
     "metadata": {},
     "output_type": "display_data"
    }
   ],
   "source": [
    "plt.scatter(on_sale_parcels.x,on_sale_parcels.y)"
   ]
  },
  {
   "cell_type": "code",
   "execution_count": 100,
   "metadata": {},
   "outputs": [],
   "source": [
    "on_sale_parcels = pd.read_csv('on_sale_parcels.csv')"
   ]
  },
  {
   "cell_type": "code",
   "execution_count": 142,
   "metadata": {},
   "outputs": [],
   "source": [
    "from datetime import datetime, timedelta\n",
    "import time\n",
    "from gql import gql, Client\n",
    "from gql.transport.requests import RequestsHTTPTransport"
   ]
  },
  {
   "cell_type": "code",
   "execution_count": 137,
   "metadata": {},
   "outputs": [],
   "source": [
    "days=10\n",
    "now = (datetime.now()  - timedelta(days=days)).strftime('%s')"
   ]
  },
  {
   "cell_type": "code",
   "execution_count": 138,
   "metadata": {},
   "outputs": [],
   "source": [
    "## Query string used to get latest parcel transaction information\n",
    "mystring = \"\"\"\n",
    "{{\n",
    "  orders (first: 1000 orderBy: updatedAt, orderDirection: asc where: {{ status:sold category:parcel updatedAt_gt:\"{0}\"}}, subgraphError: allow) {{\n",
    " \n",
    " \n",
    "    category\n",
    "    status\n",
    "    price\n",
    "    id\n",
    "    updatedAt\n",
    "    nft {{\n",
    "      owner {{\n",
    "        id\n",
    "      }}\n",
    "      name\n",
    "      estate {{\n",
    "        id\n",
    "      }}\n",
    "      parcel {{\n",
    "        id\n",
    "        x\n",
    "        y\n",
    "      }}\n",
    "     \n",
    "      owner {{\n",
    "        id\n",
    "      }}\n",
    "    }}\n",
    "   \n",
    "  }}\n",
    " \n",
    "}}\"\"\""
   ]
  },
  {
   "cell_type": "code",
   "execution_count": 145,
   "metadata": {},
   "outputs": [
    {
     "name": "stdout",
     "output_type": "stream",
     "text": [
      "last updated at: 2022-05-13\n"
     ]
    }
   ],
   "source": [
    "# Select your transport with a defined url endpoint\n",
    "transport = RequestsHTTPTransport(url=\"https://api.thegraph.com/subgraphs/name/decentraland/marketplace\")\n",
    "# Create a GraphQL client using the defined transport\n",
    "client = Client(transport=transport, fetch_schema_from_transport=True)\n",
    "\n",
    "df = pd.DataFrame()\n",
    "\n",
    "#update parameter used in mystring to start querying the database at the earliest update date of sale. The update \n",
    "#date is specified in epoch date and needs to be converted to datetime for human consumption.\n",
    "update = now\n",
    "\n",
    "while True:\n",
    "    \n",
    "    #query the data using GraphQL python library.\n",
    "    query = gql(mystring.format(update))\n",
    "    result = client.execute(query)\n",
    "    \n",
    "    #if there is no data returned it means you reached the end and should stop querying.\n",
    "    if len(client.execute(query)['orders']) <= 1:\n",
    "        break\n",
    "   \n",
    "    else:\n",
    "        #Create a temporary dataframe to later append to the final dataframe that compiles all 1000-row dataframes.\n",
    "        df1 = pd.DataFrame()\n",
    "        df1 = pd.DataFrame(result['orders'])\n",
    "        #unfold a subdict into a series of columns.\n",
    "        df1 = df1.join(df1['nft'].apply(pd.Series),lsuffix='_1',rsuffix='_2')     \n",
    "        \n",
    "        #append your temp dataframe to your master dataset.\n",
    "        df = df.append(df1)\n",
    "        \n",
    "        #Pass into the API the max date from your dataset to fetch the next 1000 records.\n",
    "        update = df['updatedAt'].max()\n",
    "        print(\"last updated at: {}\".format(time.strftime('%Y-%m-%d', time.localtime(int(update)))))\n",
    "\n",
    "#reformat the update date in human-readable datetime format.\n",
    "df['updatedAt_dt'] = df['updatedAt'].apply(lambda x: time.strftime('%Y-%m-%d', time.localtime(int(x))) )\n",
    "df['price'] = df['price'].astype(float)/1e18\n",
    "df['owner'] = df.owner.apply(lambda x: x['id'])\n",
    "df['x'] = df.parcel.apply(lambda a: a['x'])\n",
    "df['y'] = df.parcel.apply(lambda a: a['y'])\n",
    "df['parcel_id'] = df.parcel.apply(lambda a: a['id'])\n",
    "#df.to_csv('parcel_transactions.csv',index=False)"
   ]
  },
  {
   "cell_type": "code",
   "execution_count": 169,
   "metadata": {
    "scrolled": false
   },
   "outputs": [
    {
     "data": {
      "text/plain": [
       "0     2022-05-03\n",
       "1     2022-05-03\n",
       "2     2022-05-03\n",
       "3     2022-05-03\n",
       "4     2022-05-03\n",
       "         ...    \n",
       "92    2022-05-12\n",
       "93    2022-05-12\n",
       "94    2022-05-13\n",
       "95    2022-05-13\n",
       "96    2022-05-13\n",
       "Name: updatedAt_dt, Length: 97, dtype: object"
      ]
     },
     "execution_count": 169,
     "metadata": {},
     "output_type": "execute_result"
    }
   ],
   "source": [
    "df.updatedAt_dt"
   ]
  },
  {
   "cell_type": "code",
   "execution_count": 179,
   "metadata": {},
   "outputs": [],
   "source": [
    "mean_price = (df.groupby('updatedAt_dt').mean() \n",
    "                          .price.to_frame().reset_index())\n",
    "mean_price['updatedAt_dt'] = mean_price.updatedAt_dt.apply(lambda x: datetime.strptime(x, '%Y-%m-%d'))\n",
    "mean_price = mean_price.set_index('updatedAt_dt')\n",
    "mean_price = mean_price.join(mana_price.Close, how='left')\n",
    "mean_price['mean_price_usd'] = mean_price.price * mean_price.Close\n",
    "TEN_DAY_AVG = mean_price.mean_price_usd.mean()"
   ]
  },
  {
   "cell_type": "code",
   "execution_count": 180,
   "metadata": {},
   "outputs": [
    {
     "data": {
      "text/plain": [
       "6907.55011437576"
      ]
     },
     "execution_count": 180,
     "metadata": {},
     "output_type": "execute_result"
    }
   ],
   "source": [
    "TEN_DAY_AVG\n"
   ]
  },
  {
   "cell_type": "code",
   "execution_count": 166,
   "metadata": {},
   "outputs": [
    {
     "data": {
      "text/html": [
       "<div>\n",
       "<style scoped>\n",
       "    .dataframe tbody tr th:only-of-type {\n",
       "        vertical-align: middle;\n",
       "    }\n",
       "\n",
       "    .dataframe tbody tr th {\n",
       "        vertical-align: top;\n",
       "    }\n",
       "\n",
       "    .dataframe thead th {\n",
       "        text-align: right;\n",
       "    }\n",
       "</style>\n",
       "<table border=\"1\" class=\"dataframe\">\n",
       "  <thead>\n",
       "    <tr style=\"text-align: right;\">\n",
       "      <th></th>\n",
       "      <th>Open</th>\n",
       "      <th>High</th>\n",
       "      <th>Low</th>\n",
       "      <th>Close</th>\n",
       "      <th>Adj Close</th>\n",
       "      <th>Volume</th>\n",
       "    </tr>\n",
       "    <tr>\n",
       "      <th>Date</th>\n",
       "      <th></th>\n",
       "      <th></th>\n",
       "      <th></th>\n",
       "      <th></th>\n",
       "      <th></th>\n",
       "      <th></th>\n",
       "    </tr>\n",
       "  </thead>\n",
       "  <tbody>\n",
       "    <tr>\n",
       "      <th>2017-11-09</th>\n",
       "      <td>0.014329</td>\n",
       "      <td>0.016111</td>\n",
       "      <td>0.013886</td>\n",
       "      <td>0.015130</td>\n",
       "      <td>0.015130</td>\n",
       "      <td>653800</td>\n",
       "    </tr>\n",
       "    <tr>\n",
       "      <th>2017-11-10</th>\n",
       "      <td>0.015162</td>\n",
       "      <td>0.015734</td>\n",
       "      <td>0.012645</td>\n",
       "      <td>0.012940</td>\n",
       "      <td>0.012940</td>\n",
       "      <td>296429</td>\n",
       "    </tr>\n",
       "    <tr>\n",
       "      <th>2017-11-11</th>\n",
       "      <td>0.013201</td>\n",
       "      <td>0.013616</td>\n",
       "      <td>0.011758</td>\n",
       "      <td>0.011979</td>\n",
       "      <td>0.011979</td>\n",
       "      <td>237865</td>\n",
       "    </tr>\n",
       "    <tr>\n",
       "      <th>2017-11-12</th>\n",
       "      <td>0.011975</td>\n",
       "      <td>0.011975</td>\n",
       "      <td>0.010125</td>\n",
       "      <td>0.010505</td>\n",
       "      <td>0.010505</td>\n",
       "      <td>242761</td>\n",
       "    </tr>\n",
       "    <tr>\n",
       "      <th>2017-11-13</th>\n",
       "      <td>0.010628</td>\n",
       "      <td>0.011660</td>\n",
       "      <td>0.010628</td>\n",
       "      <td>0.011330</td>\n",
       "      <td>0.011330</td>\n",
       "      <td>225836</td>\n",
       "    </tr>\n",
       "    <tr>\n",
       "      <th>...</th>\n",
       "      <td>...</td>\n",
       "      <td>...</td>\n",
       "      <td>...</td>\n",
       "      <td>...</td>\n",
       "      <td>...</td>\n",
       "      <td>...</td>\n",
       "    </tr>\n",
       "    <tr>\n",
       "      <th>2022-05-09</th>\n",
       "      <td>1.328971</td>\n",
       "      <td>1.353529</td>\n",
       "      <td>1.078712</td>\n",
       "      <td>1.078712</td>\n",
       "      <td>1.078712</td>\n",
       "      <td>391182389</td>\n",
       "    </tr>\n",
       "    <tr>\n",
       "      <th>2022-05-10</th>\n",
       "      <td>1.077839</td>\n",
       "      <td>1.221053</td>\n",
       "      <td>1.035492</td>\n",
       "      <td>1.114494</td>\n",
       "      <td>1.114494</td>\n",
       "      <td>544489442</td>\n",
       "    </tr>\n",
       "    <tr>\n",
       "      <th>2022-05-11</th>\n",
       "      <td>1.114116</td>\n",
       "      <td>1.151775</td>\n",
       "      <td>0.759227</td>\n",
       "      <td>0.782168</td>\n",
       "      <td>0.782168</td>\n",
       "      <td>642808818</td>\n",
       "    </tr>\n",
       "    <tr>\n",
       "      <th>2022-05-12</th>\n",
       "      <td>0.780859</td>\n",
       "      <td>0.824363</td>\n",
       "      <td>0.630659</td>\n",
       "      <td>0.708146</td>\n",
       "      <td>0.708146</td>\n",
       "      <td>564603588</td>\n",
       "    </tr>\n",
       "    <tr>\n",
       "      <th>2022-05-13</th>\n",
       "      <td>0.710142</td>\n",
       "      <td>1.064987</td>\n",
       "      <td>0.704483</td>\n",
       "      <td>1.054099</td>\n",
       "      <td>1.054099</td>\n",
       "      <td>962928384</td>\n",
       "    </tr>\n",
       "  </tbody>\n",
       "</table>\n",
       "<p>1647 rows × 6 columns</p>\n",
       "</div>"
      ],
      "text/plain": [
       "                Open      High       Low     Close  Adj Close     Volume\n",
       "Date                                                                    \n",
       "2017-11-09  0.014329  0.016111  0.013886  0.015130   0.015130     653800\n",
       "2017-11-10  0.015162  0.015734  0.012645  0.012940   0.012940     296429\n",
       "2017-11-11  0.013201  0.013616  0.011758  0.011979   0.011979     237865\n",
       "2017-11-12  0.011975  0.011975  0.010125  0.010505   0.010505     242761\n",
       "2017-11-13  0.010628  0.011660  0.010628  0.011330   0.011330     225836\n",
       "...              ...       ...       ...       ...        ...        ...\n",
       "2022-05-09  1.328971  1.353529  1.078712  1.078712   1.078712  391182389\n",
       "2022-05-10  1.077839  1.221053  1.035492  1.114494   1.114494  544489442\n",
       "2022-05-11  1.114116  1.151775  0.759227  0.782168   0.782168  642808818\n",
       "2022-05-12  0.780859  0.824363  0.630659  0.708146   0.708146  564603588\n",
       "2022-05-13  0.710142  1.064987  0.704483  1.054099   1.054099  962928384\n",
       "\n",
       "[1647 rows x 6 columns]"
      ]
     },
     "execution_count": 166,
     "metadata": {},
     "output_type": "execute_result"
    }
   ],
   "source": [
    "mana_price"
   ]
  }
 ],
 "metadata": {
  "kernelspec": {
   "display_name": "Python 3",
   "language": "python",
   "name": "python3"
  },
  "language_info": {
   "codemirror_mode": {
    "name": "ipython",
    "version": 3
   },
   "file_extension": ".py",
   "mimetype": "text/x-python",
   "name": "python",
   "nbconvert_exporter": "python",
   "pygments_lexer": "ipython3",
   "version": "3.7.4"
  }
 },
 "nbformat": 4,
 "nbformat_minor": 2
}
