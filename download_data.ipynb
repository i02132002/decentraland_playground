{
 "cells": [
  {
   "cell_type": "code",
   "execution_count": 1,
   "metadata": {},
   "outputs": [
    {
     "data": {
      "text/plain": [
       "<module 'get_marketplace_data' from '/Users/fliou/python_projects/decentraland_playground/get_marketplace_data.py'>"
      ]
     },
     "execution_count": 1,
     "metadata": {},
     "output_type": "execute_result"
    }
   ],
   "source": [
    "from datetime import datetime\n",
    "import requests\n",
    "import json\n",
    "from gql import gql, Client\n",
    "import pandas as pd\n",
    "import time\n",
    "import numpy as np\n",
    "from sys import argv\n",
    "import yfinance\n",
    "\n",
    "from gql.transport.requests import RequestsHTTPTransport\n",
    "\n",
    "import get_marketplace_data as gmd\n",
    "import importlib\n",
    "importlib.reload(gmd)"
   ]
  },
  {
   "cell_type": "code",
   "execution_count": null,
   "metadata": {},
   "outputs": [],
   "source": [
    "\n",
    "gmd.get_parcels_from_estate('roads','0x9a6ebe7e2a7722f8200d0ffb63a1f6406a0d7dce')\n",
    "gmd.get_parcels_from_estate('genesis','0x4eac6325e1dbf1ac90434d39766e164dca71139e',9)\n"
   ]
  },
  {
   "cell_type": "code",
   "execution_count": null,
   "metadata": {},
   "outputs": [],
   "source": [
    "0x959e104e1a4db6317fa58f8295f586e1a978c297\n",
    "0x4eac6325e1dbf1ac90434d39766e164dca71139e"
   ]
  },
  {
   "cell_type": "code",
   "execution_count": 3,
   "metadata": {},
   "outputs": [
    {
     "name": "stdout",
     "output_type": "stream",
     "text": [
      "estate 1 done, 2001 parcels found\n"
     ]
    }
   ],
   "source": [
    "gmd.get_parcels_from_estate('district_x','0x49907511bdf0351daa417a87d349060876a42544')\n"
   ]
  },
  {
   "cell_type": "code",
   "execution_count": 4,
   "metadata": {},
   "outputs": [
    {
     "name": "stdout",
     "output_type": "stream",
     "text": [
      "estate 1 done, 1502 parcels found\n"
     ]
    }
   ],
   "source": [
    "gmd.get_parcels_from_estate('DU', '0x71f54536695fc79061bdbf41f8ea54a41cf88108')"
   ]
  },
  {
   "cell_type": "code",
   "execution_count": 5,
   "metadata": {},
   "outputs": [
    {
     "name": "stdout",
     "output_type": "stream",
     "text": [
      "estate 1 done, 799 parcels found\n"
     ]
    }
   ],
   "source": [
    "gmd.get_parcels_from_estate('DC', '0x6531411be222a663431bde42da60daeb669ccba2')"
   ]
  },
  {
   "cell_type": "code",
   "execution_count": 6,
   "metadata": {
    "scrolled": true
   },
   "outputs": [
    {
     "name": "stdout",
     "output_type": "stream",
     "text": [
      "estate 1 done, 125 parcels found\n"
     ]
    }
   ],
   "source": [
    "gmd.get_parcels_from_estate('sciartlab', '0xe13b048f59781e366789f8725acc1786b6aecc9b')"
   ]
  },
  {
   "cell_type": "code",
   "execution_count": 7,
   "metadata": {},
   "outputs": [
    {
     "name": "stdout",
     "output_type": "stream",
     "text": [
      "estate 1 done, 1575 parcels found\n",
      "estate 2 done, 1229 parcels found\n",
      "estate 3 done, 1086 parcels found\n",
      "estate 4 done, 1230 parcels found\n"
     ]
    }
   ],
   "source": [
    "gmd.get_parcels_from_estate('casino', '0xa65be351527ebcf8c1707d1e444dac38b41a5faf')"
   ]
  },
  {
   "cell_type": "code",
   "execution_count": 13,
   "metadata": {},
   "outputs": [],
   "source": [
    "# Select your transport with a defined url endpoint\n",
    "transport = RequestsHTTPTransport(url=\"https://api.thegraph.com/subgraphs/name/decentraland/marketplace\")\n",
    "# Create a GraphQL client using the defined transport\n",
    "client = Client(transport=transport, fetch_schema_from_transport=True)"
   ]
  },
  {
   "cell_type": "markdown",
   "metadata": {},
   "source": [
    "# Get MANA price"
   ]
  },
  {
   "cell_type": "code",
   "execution_count": 2,
   "metadata": {},
   "outputs": [
    {
     "name": "stdout",
     "output_type": "stream",
     "text": [
      "[*********************100%***********************]  1 of 1 completed\n"
     ]
    }
   ],
   "source": [
    "import yfinance\n",
    "df = yfinance.download('MANA-USD')"
   ]
  },
  {
   "cell_type": "code",
   "execution_count": null,
   "metadata": {},
   "outputs": [],
   "source": [
    "from time import sleep\n",
    "while True:\n",
    "    sleep(300)"
   ]
  },
  {
   "cell_type": "code",
   "execution_count": 8,
   "metadata": {},
   "outputs": [],
   "source": [
    "df.to_csv('MANA-USD.csv',index=False)"
   ]
  },
  {
   "cell_type": "markdown",
   "metadata": {},
   "source": [
    "# Get Estates currently on sale"
   ]
  },
  {
   "cell_type": "code",
   "execution_count": 3,
   "metadata": {},
   "outputs": [],
   "source": [
    "mystring = \"\"\" {{\n",
    "  orders(\n",
    "    first: 1000\n",
    "    orderBy: updatedAt\n",
    "    orderDirection: asc\n",
    "    subgraphError: allow\n",
    "    where: {{status: open, updatedAt_gt:\"{0}\", expiresAt_gt: \"{1}\", category: estate}}\n",
    "  ) {{\n",
    "    id\n",
    "    price\n",
    "    updatedAt\n",
    "    createdAt\n",
    "    expiresAt\n",
    "    owner\n",
    "    nft {{\n",
    "      estate {{\n",
    "        id\n",
    "        parcels{{\n",
    "            id\n",
    "            x\n",
    "            y\n",
    "        }}\n",
    "      }}\n",
    "    }}\n",
    "  }}\n",
    "}}\n",
    "\"\"\""
   ]
  },
  {
   "cell_type": "code",
   "execution_count": 4,
   "metadata": {},
   "outputs": [
    {
     "name": "stdout",
     "output_type": "stream",
     "text": [
      "last updated at: 2022-05-10\n"
     ]
    }
   ],
   "source": [
    "df = pd.DataFrame()\n",
    "\n",
    "#update parameter used in mystring to start querying the database at the earliest update date of sale. The update \n",
    "#date is specified in epoch date and needs to be converted to datetime for human consumption.\n",
    "update = 1\n",
    "now = datetime.now().strftime('%s') + '000'\n",
    "\n",
    "while True:\n",
    "    \n",
    "    #query the data using GraphQL python library.\n",
    "    query = gql(mystring.format(update, now))\n",
    "    result = client.execute(query)\n",
    "    \n",
    "    #if there is no data returned it means you reached the end and should stop querying.\n",
    "    if len(client.execute(query)['orders']) <= 1:\n",
    "        break\n",
    "   \n",
    "    else:\n",
    "        #Create a temporary dataframe to later append to the final dataframe that compiles all 1000-row dataframes.\n",
    "        df1 = pd.DataFrame()\n",
    "        df1 = pd.DataFrame(result['orders'])\n",
    "        #unfold a subdict into a series of columns.\n",
    "        df1 = df1.join(df1['nft'].apply(pd.Series),lsuffix='_1',rsuffix='_2')     \n",
    "        \n",
    "        #append your temp dataframe to your master dataset.\n",
    "        df = df.append(df1)\n",
    "        \n",
    "        #Pass into the API the max date from your dataset to fetch the next 1000 records.\n",
    "        update = df['updatedAt'].max()\n",
    "        print(\"last updated at: {}\".format(time.strftime('%Y-%m-%d', time.localtime(int(update)))))\n",
    "\n",
    "#reformat the update date in human-readable datetime format.\n",
    "df['price'] = df['price'].astype(float)/1e18\n",
    "df['expiresAt'] = df['expiresAt'].astype(float)/1e3\n",
    "df['updatedAt_dt'] = df['updatedAt'].apply(lambda x: time.strftime('%Y-%m-%d', time.localtime(int(x))) )\n",
    "df['estate_id'] = df.estate.apply(lambda a: a['id'])\n",
    "\n",
    "df = df.join(df['estate'].apply(pd.Series).parcels)\n",
    "df = df[df['parcels'].apply(lambda x: x!=[])]\n",
    "\n",
    "def expand_parcels(group):\n",
    "    row = group.iloc[0]\n",
    "    return pd.DataFrame({'estate_id': row['estate_id'], \n",
    "              'parcel_id': [item['id'] for item in row['parcels']],\n",
    "              'x': [item['x'] for item in row['parcels']],\n",
    "              'y': [item['y'] for item in row['parcels']],\n",
    "              'estate_size': len(row['parcels'])\n",
    "             })\n",
    "each_parcel = df.groupby('estate_id').apply(expand_parcels).set_index('estate_id')\n",
    "df = df.set_index('estate_id').join(each_parcel)\n",
    "#df.to_csv('on_sale_estates.csv',index=False)"
   ]
  },
  {
   "cell_type": "markdown",
   "metadata": {
    "heading_collapsed": true
   },
   "source": [
    "# Get parcels currently on sale"
   ]
  },
  {
   "cell_type": "code",
   "execution_count": 5,
   "metadata": {
    "hidden": true
   },
   "outputs": [],
   "source": [
    "mystring = \"\"\" {{\n",
    "  orders(\n",
    "    first: 1000\n",
    "    orderBy: updatedAt\n",
    "    orderDirection: asc\n",
    "    subgraphError: allow\n",
    "    where: {{status: open, updatedAt_gt:\"{0}\", expiresAt_gt: \"{1}\", category: parcel}}\n",
    "  ) {{\n",
    "    id\n",
    "    price\n",
    "    updatedAt\n",
    "    createdAt\n",
    "    expiresAt\n",
    "    owner\n",
    "    nft {{\n",
    "      parcel {{\n",
    "        id\n",
    "        x\n",
    "        y\n",
    "      }}\n",
    "    }}\n",
    "  }}\n",
    "}}\n",
    "\"\"\""
   ]
  },
  {
   "cell_type": "code",
   "execution_count": 6,
   "metadata": {
    "hidden": true
   },
   "outputs": [
    {
     "name": "stdout",
     "output_type": "stream",
     "text": [
      "last updated at: 2022-05-10\n"
     ]
    }
   ],
   "source": [
    "df = pd.DataFrame()\n",
    "\n",
    "#update parameter used in mystring to start querying the database at the earliest update date of sale. The update \n",
    "#date is specified in epoch date and needs to be converted to datetime for human consumption.\n",
    "update = 1\n",
    "now = datetime.now().strftime('%s') + '000'\n",
    "\n",
    "while True:\n",
    "    \n",
    "    #query the data using GraphQL python library.\n",
    "    query = gql(mystring.format(update, now))\n",
    "    result = client.execute(query)\n",
    "    \n",
    "    #if there is no data returned it means you reached the end and should stop querying.\n",
    "    if len(client.execute(query)['orders']) <= 1:\n",
    "        break\n",
    "   \n",
    "    else:\n",
    "        #Create a temporary dataframe to later append to the final dataframe that compiles all 1000-row dataframes.\n",
    "        df1 = pd.DataFrame()\n",
    "        df1 = pd.DataFrame(result['orders'])\n",
    "        #unfold a subdict into a series of columns.\n",
    "        df1 = df1.join(df1['nft'].apply(pd.Series),lsuffix='_1',rsuffix='_2')     \n",
    "        \n",
    "        #append your temp dataframe to your master dataset.\n",
    "        df = df.append(df1)\n",
    "        \n",
    "        #Pass into the API the max date from your dataset to fetch the next 1000 records.\n",
    "        update = df['updatedAt'].max()\n",
    "        print(\"last updated at: {}\".format(time.strftime('%Y-%m-%d', time.localtime(int(update)))))\n",
    "\n",
    "#reformat the update date in human-readable datetime format.\n",
    "df['price'] = df['price'].astype(float)/1e18\n",
    "df['expiresAt'] = df['expiresAt'].astype(float)/1e3\n",
    "df['updatedAt_dt'] = df['updatedAt'].apply(lambda x: time.strftime('%Y-%m-%d', time.localtime(int(x))) )\n",
    "df['x'] = df.parcel.apply(lambda a: a['x'])\n",
    "df['y'] = df.parcel.apply(lambda a: a['y'])\n",
    "df['parcel_id'] = df.parcel.apply(lambda a: a['id'])\n",
    "#df.to_csv('on_sale_parcels.csv',index=False)"
   ]
  },
  {
   "cell_type": "code",
   "execution_count": 5,
   "metadata": {},
   "outputs": [],
   "source": [
    "import matplotlib.pyplot as plt"
   ]
  },
  {
   "cell_type": "code",
   "execution_count": 7,
   "metadata": {},
   "outputs": [
    {
     "data": {
      "text/html": [
       "<div>\n",
       "<style scoped>\n",
       "    .dataframe tbody tr th:only-of-type {\n",
       "        vertical-align: middle;\n",
       "    }\n",
       "\n",
       "    .dataframe tbody tr th {\n",
       "        vertical-align: top;\n",
       "    }\n",
       "\n",
       "    .dataframe thead th {\n",
       "        text-align: right;\n",
       "    }\n",
       "</style>\n",
       "<table border=\"1\" class=\"dataframe\">\n",
       "  <thead>\n",
       "    <tr style=\"text-align: right;\">\n",
       "      <th></th>\n",
       "      <th>id</th>\n",
       "      <th>price</th>\n",
       "      <th>updatedAt</th>\n",
       "      <th>createdAt</th>\n",
       "      <th>expiresAt</th>\n",
       "      <th>owner</th>\n",
       "      <th>nft</th>\n",
       "      <th>estate</th>\n",
       "      <th>updatedAt_dt</th>\n",
       "      <th>parcels</th>\n",
       "      <th>parcel_id</th>\n",
       "      <th>x</th>\n",
       "      <th>y</th>\n",
       "      <th>estate_size</th>\n",
       "    </tr>\n",
       "    <tr>\n",
       "      <th>estate_id</th>\n",
       "      <th></th>\n",
       "      <th></th>\n",
       "      <th></th>\n",
       "      <th></th>\n",
       "      <th></th>\n",
       "      <th></th>\n",
       "      <th></th>\n",
       "      <th></th>\n",
       "      <th></th>\n",
       "      <th></th>\n",
       "      <th></th>\n",
       "      <th></th>\n",
       "      <th></th>\n",
       "      <th></th>\n",
       "    </tr>\n",
       "  </thead>\n",
       "  <tbody>\n",
       "    <tr>\n",
       "      <th>estate-0x959e104e1a4db6317fa58f8295f586e1a978c297-1035</th>\n",
       "      <td>0xe51c8a8b775727612bd4f6d76b9c455f8ebae7822386...</td>\n",
       "      <td>89000.0</td>\n",
       "      <td>1652122655</td>\n",
       "      <td>1652122655</td>\n",
       "      <td>1.652573e+09</td>\n",
       "      <td>0xe7b06d0fe751818b1ff7dffb0376602fc286b972</td>\n",
       "      <td>{'estate': {'id': 'estate-0x959e104e1a4db6317f...</td>\n",
       "      <td>{'id': 'estate-0x959e104e1a4db6317fa58f8295f58...</td>\n",
       "      <td>2022-05-09</td>\n",
       "      <td>[{'id': 'parcel-0xf87e31492faf9a91b02ee0deaad5...</td>\n",
       "      <td>parcel-0xf87e31492faf9a91b02ee0deaad50d51d56d5...</td>\n",
       "      <td>-42</td>\n",
       "      <td>-5</td>\n",
       "      <td>9</td>\n",
       "    </tr>\n",
       "    <tr>\n",
       "      <th>estate-0x959e104e1a4db6317fa58f8295f586e1a978c297-1035</th>\n",
       "      <td>0xe51c8a8b775727612bd4f6d76b9c455f8ebae7822386...</td>\n",
       "      <td>89000.0</td>\n",
       "      <td>1652122655</td>\n",
       "      <td>1652122655</td>\n",
       "      <td>1.652573e+09</td>\n",
       "      <td>0xe7b06d0fe751818b1ff7dffb0376602fc286b972</td>\n",
       "      <td>{'estate': {'id': 'estate-0x959e104e1a4db6317f...</td>\n",
       "      <td>{'id': 'estate-0x959e104e1a4db6317fa58f8295f58...</td>\n",
       "      <td>2022-05-09</td>\n",
       "      <td>[{'id': 'parcel-0xf87e31492faf9a91b02ee0deaad5...</td>\n",
       "      <td>parcel-0xf87e31492faf9a91b02ee0deaad50d51d56d5...</td>\n",
       "      <td>-42</td>\n",
       "      <td>-4</td>\n",
       "      <td>9</td>\n",
       "    </tr>\n",
       "    <tr>\n",
       "      <th>estate-0x959e104e1a4db6317fa58f8295f586e1a978c297-1035</th>\n",
       "      <td>0xe51c8a8b775727612bd4f6d76b9c455f8ebae7822386...</td>\n",
       "      <td>89000.0</td>\n",
       "      <td>1652122655</td>\n",
       "      <td>1652122655</td>\n",
       "      <td>1.652573e+09</td>\n",
       "      <td>0xe7b06d0fe751818b1ff7dffb0376602fc286b972</td>\n",
       "      <td>{'estate': {'id': 'estate-0x959e104e1a4db6317f...</td>\n",
       "      <td>{'id': 'estate-0x959e104e1a4db6317fa58f8295f58...</td>\n",
       "      <td>2022-05-09</td>\n",
       "      <td>[{'id': 'parcel-0xf87e31492faf9a91b02ee0deaad5...</td>\n",
       "      <td>parcel-0xf87e31492faf9a91b02ee0deaad50d51d56d5...</td>\n",
       "      <td>-42</td>\n",
       "      <td>-3</td>\n",
       "      <td>9</td>\n",
       "    </tr>\n",
       "    <tr>\n",
       "      <th>estate-0x959e104e1a4db6317fa58f8295f586e1a978c297-1035</th>\n",
       "      <td>0xe51c8a8b775727612bd4f6d76b9c455f8ebae7822386...</td>\n",
       "      <td>89000.0</td>\n",
       "      <td>1652122655</td>\n",
       "      <td>1652122655</td>\n",
       "      <td>1.652573e+09</td>\n",
       "      <td>0xe7b06d0fe751818b1ff7dffb0376602fc286b972</td>\n",
       "      <td>{'estate': {'id': 'estate-0x959e104e1a4db6317f...</td>\n",
       "      <td>{'id': 'estate-0x959e104e1a4db6317fa58f8295f58...</td>\n",
       "      <td>2022-05-09</td>\n",
       "      <td>[{'id': 'parcel-0xf87e31492faf9a91b02ee0deaad5...</td>\n",
       "      <td>parcel-0xf87e31492faf9a91b02ee0deaad50d51d56d5...</td>\n",
       "      <td>-42</td>\n",
       "      <td>-2</td>\n",
       "      <td>9</td>\n",
       "    </tr>\n",
       "    <tr>\n",
       "      <th>estate-0x959e104e1a4db6317fa58f8295f586e1a978c297-1035</th>\n",
       "      <td>0xe51c8a8b775727612bd4f6d76b9c455f8ebae7822386...</td>\n",
       "      <td>89000.0</td>\n",
       "      <td>1652122655</td>\n",
       "      <td>1652122655</td>\n",
       "      <td>1.652573e+09</td>\n",
       "      <td>0xe7b06d0fe751818b1ff7dffb0376602fc286b972</td>\n",
       "      <td>{'estate': {'id': 'estate-0x959e104e1a4db6317f...</td>\n",
       "      <td>{'id': 'estate-0x959e104e1a4db6317fa58f8295f58...</td>\n",
       "      <td>2022-05-09</td>\n",
       "      <td>[{'id': 'parcel-0xf87e31492faf9a91b02ee0deaad5...</td>\n",
       "      <td>parcel-0xf87e31492faf9a91b02ee0deaad50d51d56d5...</td>\n",
       "      <td>-41</td>\n",
       "      <td>-5</td>\n",
       "      <td>9</td>\n",
       "    </tr>\n",
       "    <tr>\n",
       "      <th>...</th>\n",
       "      <td>...</td>\n",
       "      <td>...</td>\n",
       "      <td>...</td>\n",
       "      <td>...</td>\n",
       "      <td>...</td>\n",
       "      <td>...</td>\n",
       "      <td>...</td>\n",
       "      <td>...</td>\n",
       "      <td>...</td>\n",
       "      <td>...</td>\n",
       "      <td>...</td>\n",
       "      <td>...</td>\n",
       "      <td>...</td>\n",
       "      <td>...</td>\n",
       "    </tr>\n",
       "    <tr>\n",
       "      <th>estate-0x959e104e1a4db6317fa58f8295f586e1a978c297-981</th>\n",
       "      <td>0x9e81ca40a71ca92db304abdbf54a247806801b8392c7...</td>\n",
       "      <td>500000.0</td>\n",
       "      <td>1648243051</td>\n",
       "      <td>1648243051</td>\n",
       "      <td>1.658621e+09</td>\n",
       "      <td>0xdbdd3d732083b13d9ebfd83675b7c22f84392ef6</td>\n",
       "      <td>{'estate': {'id': 'estate-0x959e104e1a4db6317f...</td>\n",
       "      <td>{'id': 'estate-0x959e104e1a4db6317fa58f8295f58...</td>\n",
       "      <td>2022-03-25</td>\n",
       "      <td>[{'id': 'parcel-0xf87e31492faf9a91b02ee0deaad5...</td>\n",
       "      <td>parcel-0xf87e31492faf9a91b02ee0deaad50d51d56d5...</td>\n",
       "      <td>-17</td>\n",
       "      <td>-25</td>\n",
       "      <td>38</td>\n",
       "    </tr>\n",
       "    <tr>\n",
       "      <th>estate-0x959e104e1a4db6317fa58f8295f586e1a978c297-981</th>\n",
       "      <td>0x9e81ca40a71ca92db304abdbf54a247806801b8392c7...</td>\n",
       "      <td>500000.0</td>\n",
       "      <td>1648243051</td>\n",
       "      <td>1648243051</td>\n",
       "      <td>1.658621e+09</td>\n",
       "      <td>0xdbdd3d732083b13d9ebfd83675b7c22f84392ef6</td>\n",
       "      <td>{'estate': {'id': 'estate-0x959e104e1a4db6317f...</td>\n",
       "      <td>{'id': 'estate-0x959e104e1a4db6317fa58f8295f58...</td>\n",
       "      <td>2022-03-25</td>\n",
       "      <td>[{'id': 'parcel-0xf87e31492faf9a91b02ee0deaad5...</td>\n",
       "      <td>parcel-0xf87e31492faf9a91b02ee0deaad50d51d56d5...</td>\n",
       "      <td>-17</td>\n",
       "      <td>-24</td>\n",
       "      <td>38</td>\n",
       "    </tr>\n",
       "    <tr>\n",
       "      <th>estate-0x959e104e1a4db6317fa58f8295f586e1a978c297-981</th>\n",
       "      <td>0x9e81ca40a71ca92db304abdbf54a247806801b8392c7...</td>\n",
       "      <td>500000.0</td>\n",
       "      <td>1648243051</td>\n",
       "      <td>1648243051</td>\n",
       "      <td>1.658621e+09</td>\n",
       "      <td>0xdbdd3d732083b13d9ebfd83675b7c22f84392ef6</td>\n",
       "      <td>{'estate': {'id': 'estate-0x959e104e1a4db6317f...</td>\n",
       "      <td>{'id': 'estate-0x959e104e1a4db6317fa58f8295f58...</td>\n",
       "      <td>2022-03-25</td>\n",
       "      <td>[{'id': 'parcel-0xf87e31492faf9a91b02ee0deaad5...</td>\n",
       "      <td>parcel-0xf87e31492faf9a91b02ee0deaad50d51d56d5...</td>\n",
       "      <td>-16</td>\n",
       "      <td>-26</td>\n",
       "      <td>38</td>\n",
       "    </tr>\n",
       "    <tr>\n",
       "      <th>estate-0x959e104e1a4db6317fa58f8295f586e1a978c297-981</th>\n",
       "      <td>0x9e81ca40a71ca92db304abdbf54a247806801b8392c7...</td>\n",
       "      <td>500000.0</td>\n",
       "      <td>1648243051</td>\n",
       "      <td>1648243051</td>\n",
       "      <td>1.658621e+09</td>\n",
       "      <td>0xdbdd3d732083b13d9ebfd83675b7c22f84392ef6</td>\n",
       "      <td>{'estate': {'id': 'estate-0x959e104e1a4db6317f...</td>\n",
       "      <td>{'id': 'estate-0x959e104e1a4db6317fa58f8295f58...</td>\n",
       "      <td>2022-03-25</td>\n",
       "      <td>[{'id': 'parcel-0xf87e31492faf9a91b02ee0deaad5...</td>\n",
       "      <td>parcel-0xf87e31492faf9a91b02ee0deaad50d51d56d5...</td>\n",
       "      <td>-16</td>\n",
       "      <td>-25</td>\n",
       "      <td>38</td>\n",
       "    </tr>\n",
       "    <tr>\n",
       "      <th>estate-0x959e104e1a4db6317fa58f8295f586e1a978c297-981</th>\n",
       "      <td>0x9e81ca40a71ca92db304abdbf54a247806801b8392c7...</td>\n",
       "      <td>500000.0</td>\n",
       "      <td>1648243051</td>\n",
       "      <td>1648243051</td>\n",
       "      <td>1.658621e+09</td>\n",
       "      <td>0xdbdd3d732083b13d9ebfd83675b7c22f84392ef6</td>\n",
       "      <td>{'estate': {'id': 'estate-0x959e104e1a4db6317f...</td>\n",
       "      <td>{'id': 'estate-0x959e104e1a4db6317fa58f8295f58...</td>\n",
       "      <td>2022-03-25</td>\n",
       "      <td>[{'id': 'parcel-0xf87e31492faf9a91b02ee0deaad5...</td>\n",
       "      <td>parcel-0xf87e31492faf9a91b02ee0deaad50d51d56d5...</td>\n",
       "      <td>-16</td>\n",
       "      <td>-24</td>\n",
       "      <td>38</td>\n",
       "    </tr>\n",
       "  </tbody>\n",
       "</table>\n",
       "<p>2304 rows × 14 columns</p>\n",
       "</div>"
      ],
      "text/plain": [
       "                                                                                                   id  \\\n",
       "estate_id                                                                                               \n",
       "estate-0x959e104e1a4db6317fa58f8295f586e1a978c2...  0xe51c8a8b775727612bd4f6d76b9c455f8ebae7822386...   \n",
       "estate-0x959e104e1a4db6317fa58f8295f586e1a978c2...  0xe51c8a8b775727612bd4f6d76b9c455f8ebae7822386...   \n",
       "estate-0x959e104e1a4db6317fa58f8295f586e1a978c2...  0xe51c8a8b775727612bd4f6d76b9c455f8ebae7822386...   \n",
       "estate-0x959e104e1a4db6317fa58f8295f586e1a978c2...  0xe51c8a8b775727612bd4f6d76b9c455f8ebae7822386...   \n",
       "estate-0x959e104e1a4db6317fa58f8295f586e1a978c2...  0xe51c8a8b775727612bd4f6d76b9c455f8ebae7822386...   \n",
       "...                                                                                               ...   \n",
       "estate-0x959e104e1a4db6317fa58f8295f586e1a978c2...  0x9e81ca40a71ca92db304abdbf54a247806801b8392c7...   \n",
       "estate-0x959e104e1a4db6317fa58f8295f586e1a978c2...  0x9e81ca40a71ca92db304abdbf54a247806801b8392c7...   \n",
       "estate-0x959e104e1a4db6317fa58f8295f586e1a978c2...  0x9e81ca40a71ca92db304abdbf54a247806801b8392c7...   \n",
       "estate-0x959e104e1a4db6317fa58f8295f586e1a978c2...  0x9e81ca40a71ca92db304abdbf54a247806801b8392c7...   \n",
       "estate-0x959e104e1a4db6317fa58f8295f586e1a978c2...  0x9e81ca40a71ca92db304abdbf54a247806801b8392c7...   \n",
       "\n",
       "                                                       price   updatedAt  \\\n",
       "estate_id                                                                  \n",
       "estate-0x959e104e1a4db6317fa58f8295f586e1a978c2...   89000.0  1652122655   \n",
       "estate-0x959e104e1a4db6317fa58f8295f586e1a978c2...   89000.0  1652122655   \n",
       "estate-0x959e104e1a4db6317fa58f8295f586e1a978c2...   89000.0  1652122655   \n",
       "estate-0x959e104e1a4db6317fa58f8295f586e1a978c2...   89000.0  1652122655   \n",
       "estate-0x959e104e1a4db6317fa58f8295f586e1a978c2...   89000.0  1652122655   \n",
       "...                                                      ...         ...   \n",
       "estate-0x959e104e1a4db6317fa58f8295f586e1a978c2...  500000.0  1648243051   \n",
       "estate-0x959e104e1a4db6317fa58f8295f586e1a978c2...  500000.0  1648243051   \n",
       "estate-0x959e104e1a4db6317fa58f8295f586e1a978c2...  500000.0  1648243051   \n",
       "estate-0x959e104e1a4db6317fa58f8295f586e1a978c2...  500000.0  1648243051   \n",
       "estate-0x959e104e1a4db6317fa58f8295f586e1a978c2...  500000.0  1648243051   \n",
       "\n",
       "                                                     createdAt     expiresAt  \\\n",
       "estate_id                                                                      \n",
       "estate-0x959e104e1a4db6317fa58f8295f586e1a978c2...  1652122655  1.652573e+09   \n",
       "estate-0x959e104e1a4db6317fa58f8295f586e1a978c2...  1652122655  1.652573e+09   \n",
       "estate-0x959e104e1a4db6317fa58f8295f586e1a978c2...  1652122655  1.652573e+09   \n",
       "estate-0x959e104e1a4db6317fa58f8295f586e1a978c2...  1652122655  1.652573e+09   \n",
       "estate-0x959e104e1a4db6317fa58f8295f586e1a978c2...  1652122655  1.652573e+09   \n",
       "...                                                        ...           ...   \n",
       "estate-0x959e104e1a4db6317fa58f8295f586e1a978c2...  1648243051  1.658621e+09   \n",
       "estate-0x959e104e1a4db6317fa58f8295f586e1a978c2...  1648243051  1.658621e+09   \n",
       "estate-0x959e104e1a4db6317fa58f8295f586e1a978c2...  1648243051  1.658621e+09   \n",
       "estate-0x959e104e1a4db6317fa58f8295f586e1a978c2...  1648243051  1.658621e+09   \n",
       "estate-0x959e104e1a4db6317fa58f8295f586e1a978c2...  1648243051  1.658621e+09   \n",
       "\n",
       "                                                                                         owner  \\\n",
       "estate_id                                                                                        \n",
       "estate-0x959e104e1a4db6317fa58f8295f586e1a978c2...  0xe7b06d0fe751818b1ff7dffb0376602fc286b972   \n",
       "estate-0x959e104e1a4db6317fa58f8295f586e1a978c2...  0xe7b06d0fe751818b1ff7dffb0376602fc286b972   \n",
       "estate-0x959e104e1a4db6317fa58f8295f586e1a978c2...  0xe7b06d0fe751818b1ff7dffb0376602fc286b972   \n",
       "estate-0x959e104e1a4db6317fa58f8295f586e1a978c2...  0xe7b06d0fe751818b1ff7dffb0376602fc286b972   \n",
       "estate-0x959e104e1a4db6317fa58f8295f586e1a978c2...  0xe7b06d0fe751818b1ff7dffb0376602fc286b972   \n",
       "...                                                                                        ...   \n",
       "estate-0x959e104e1a4db6317fa58f8295f586e1a978c2...  0xdbdd3d732083b13d9ebfd83675b7c22f84392ef6   \n",
       "estate-0x959e104e1a4db6317fa58f8295f586e1a978c2...  0xdbdd3d732083b13d9ebfd83675b7c22f84392ef6   \n",
       "estate-0x959e104e1a4db6317fa58f8295f586e1a978c2...  0xdbdd3d732083b13d9ebfd83675b7c22f84392ef6   \n",
       "estate-0x959e104e1a4db6317fa58f8295f586e1a978c2...  0xdbdd3d732083b13d9ebfd83675b7c22f84392ef6   \n",
       "estate-0x959e104e1a4db6317fa58f8295f586e1a978c2...  0xdbdd3d732083b13d9ebfd83675b7c22f84392ef6   \n",
       "\n",
       "                                                                                                  nft  \\\n",
       "estate_id                                                                                               \n",
       "estate-0x959e104e1a4db6317fa58f8295f586e1a978c2...  {'estate': {'id': 'estate-0x959e104e1a4db6317f...   \n",
       "estate-0x959e104e1a4db6317fa58f8295f586e1a978c2...  {'estate': {'id': 'estate-0x959e104e1a4db6317f...   \n",
       "estate-0x959e104e1a4db6317fa58f8295f586e1a978c2...  {'estate': {'id': 'estate-0x959e104e1a4db6317f...   \n",
       "estate-0x959e104e1a4db6317fa58f8295f586e1a978c2...  {'estate': {'id': 'estate-0x959e104e1a4db6317f...   \n",
       "estate-0x959e104e1a4db6317fa58f8295f586e1a978c2...  {'estate': {'id': 'estate-0x959e104e1a4db6317f...   \n",
       "...                                                                                               ...   \n",
       "estate-0x959e104e1a4db6317fa58f8295f586e1a978c2...  {'estate': {'id': 'estate-0x959e104e1a4db6317f...   \n",
       "estate-0x959e104e1a4db6317fa58f8295f586e1a978c2...  {'estate': {'id': 'estate-0x959e104e1a4db6317f...   \n",
       "estate-0x959e104e1a4db6317fa58f8295f586e1a978c2...  {'estate': {'id': 'estate-0x959e104e1a4db6317f...   \n",
       "estate-0x959e104e1a4db6317fa58f8295f586e1a978c2...  {'estate': {'id': 'estate-0x959e104e1a4db6317f...   \n",
       "estate-0x959e104e1a4db6317fa58f8295f586e1a978c2...  {'estate': {'id': 'estate-0x959e104e1a4db6317f...   \n",
       "\n",
       "                                                                                               estate  \\\n",
       "estate_id                                                                                               \n",
       "estate-0x959e104e1a4db6317fa58f8295f586e1a978c2...  {'id': 'estate-0x959e104e1a4db6317fa58f8295f58...   \n",
       "estate-0x959e104e1a4db6317fa58f8295f586e1a978c2...  {'id': 'estate-0x959e104e1a4db6317fa58f8295f58...   \n",
       "estate-0x959e104e1a4db6317fa58f8295f586e1a978c2...  {'id': 'estate-0x959e104e1a4db6317fa58f8295f58...   \n",
       "estate-0x959e104e1a4db6317fa58f8295f586e1a978c2...  {'id': 'estate-0x959e104e1a4db6317fa58f8295f58...   \n",
       "estate-0x959e104e1a4db6317fa58f8295f586e1a978c2...  {'id': 'estate-0x959e104e1a4db6317fa58f8295f58...   \n",
       "...                                                                                               ...   \n",
       "estate-0x959e104e1a4db6317fa58f8295f586e1a978c2...  {'id': 'estate-0x959e104e1a4db6317fa58f8295f58...   \n",
       "estate-0x959e104e1a4db6317fa58f8295f586e1a978c2...  {'id': 'estate-0x959e104e1a4db6317fa58f8295f58...   \n",
       "estate-0x959e104e1a4db6317fa58f8295f586e1a978c2...  {'id': 'estate-0x959e104e1a4db6317fa58f8295f58...   \n",
       "estate-0x959e104e1a4db6317fa58f8295f586e1a978c2...  {'id': 'estate-0x959e104e1a4db6317fa58f8295f58...   \n",
       "estate-0x959e104e1a4db6317fa58f8295f586e1a978c2...  {'id': 'estate-0x959e104e1a4db6317fa58f8295f58...   \n",
       "\n",
       "                                                   updatedAt_dt  \\\n",
       "estate_id                                                         \n",
       "estate-0x959e104e1a4db6317fa58f8295f586e1a978c2...   2022-05-09   \n",
       "estate-0x959e104e1a4db6317fa58f8295f586e1a978c2...   2022-05-09   \n",
       "estate-0x959e104e1a4db6317fa58f8295f586e1a978c2...   2022-05-09   \n",
       "estate-0x959e104e1a4db6317fa58f8295f586e1a978c2...   2022-05-09   \n",
       "estate-0x959e104e1a4db6317fa58f8295f586e1a978c2...   2022-05-09   \n",
       "...                                                         ...   \n",
       "estate-0x959e104e1a4db6317fa58f8295f586e1a978c2...   2022-03-25   \n",
       "estate-0x959e104e1a4db6317fa58f8295f586e1a978c2...   2022-03-25   \n",
       "estate-0x959e104e1a4db6317fa58f8295f586e1a978c2...   2022-03-25   \n",
       "estate-0x959e104e1a4db6317fa58f8295f586e1a978c2...   2022-03-25   \n",
       "estate-0x959e104e1a4db6317fa58f8295f586e1a978c2...   2022-03-25   \n",
       "\n",
       "                                                                                              parcels  \\\n",
       "estate_id                                                                                               \n",
       "estate-0x959e104e1a4db6317fa58f8295f586e1a978c2...  [{'id': 'parcel-0xf87e31492faf9a91b02ee0deaad5...   \n",
       "estate-0x959e104e1a4db6317fa58f8295f586e1a978c2...  [{'id': 'parcel-0xf87e31492faf9a91b02ee0deaad5...   \n",
       "estate-0x959e104e1a4db6317fa58f8295f586e1a978c2...  [{'id': 'parcel-0xf87e31492faf9a91b02ee0deaad5...   \n",
       "estate-0x959e104e1a4db6317fa58f8295f586e1a978c2...  [{'id': 'parcel-0xf87e31492faf9a91b02ee0deaad5...   \n",
       "estate-0x959e104e1a4db6317fa58f8295f586e1a978c2...  [{'id': 'parcel-0xf87e31492faf9a91b02ee0deaad5...   \n",
       "...                                                                                               ...   \n",
       "estate-0x959e104e1a4db6317fa58f8295f586e1a978c2...  [{'id': 'parcel-0xf87e31492faf9a91b02ee0deaad5...   \n",
       "estate-0x959e104e1a4db6317fa58f8295f586e1a978c2...  [{'id': 'parcel-0xf87e31492faf9a91b02ee0deaad5...   \n",
       "estate-0x959e104e1a4db6317fa58f8295f586e1a978c2...  [{'id': 'parcel-0xf87e31492faf9a91b02ee0deaad5...   \n",
       "estate-0x959e104e1a4db6317fa58f8295f586e1a978c2...  [{'id': 'parcel-0xf87e31492faf9a91b02ee0deaad5...   \n",
       "estate-0x959e104e1a4db6317fa58f8295f586e1a978c2...  [{'id': 'parcel-0xf87e31492faf9a91b02ee0deaad5...   \n",
       "\n",
       "                                                                                            parcel_id  \\\n",
       "estate_id                                                                                               \n",
       "estate-0x959e104e1a4db6317fa58f8295f586e1a978c2...  parcel-0xf87e31492faf9a91b02ee0deaad50d51d56d5...   \n",
       "estate-0x959e104e1a4db6317fa58f8295f586e1a978c2...  parcel-0xf87e31492faf9a91b02ee0deaad50d51d56d5...   \n",
       "estate-0x959e104e1a4db6317fa58f8295f586e1a978c2...  parcel-0xf87e31492faf9a91b02ee0deaad50d51d56d5...   \n",
       "estate-0x959e104e1a4db6317fa58f8295f586e1a978c2...  parcel-0xf87e31492faf9a91b02ee0deaad50d51d56d5...   \n",
       "estate-0x959e104e1a4db6317fa58f8295f586e1a978c2...  parcel-0xf87e31492faf9a91b02ee0deaad50d51d56d5...   \n",
       "...                                                                                               ...   \n",
       "estate-0x959e104e1a4db6317fa58f8295f586e1a978c2...  parcel-0xf87e31492faf9a91b02ee0deaad50d51d56d5...   \n",
       "estate-0x959e104e1a4db6317fa58f8295f586e1a978c2...  parcel-0xf87e31492faf9a91b02ee0deaad50d51d56d5...   \n",
       "estate-0x959e104e1a4db6317fa58f8295f586e1a978c2...  parcel-0xf87e31492faf9a91b02ee0deaad50d51d56d5...   \n",
       "estate-0x959e104e1a4db6317fa58f8295f586e1a978c2...  parcel-0xf87e31492faf9a91b02ee0deaad50d51d56d5...   \n",
       "estate-0x959e104e1a4db6317fa58f8295f586e1a978c2...  parcel-0xf87e31492faf9a91b02ee0deaad50d51d56d5...   \n",
       "\n",
       "                                                      x    y  estate_size  \n",
       "estate_id                                                                  \n",
       "estate-0x959e104e1a4db6317fa58f8295f586e1a978c2...  -42   -5            9  \n",
       "estate-0x959e104e1a4db6317fa58f8295f586e1a978c2...  -42   -4            9  \n",
       "estate-0x959e104e1a4db6317fa58f8295f586e1a978c2...  -42   -3            9  \n",
       "estate-0x959e104e1a4db6317fa58f8295f586e1a978c2...  -42   -2            9  \n",
       "estate-0x959e104e1a4db6317fa58f8295f586e1a978c2...  -41   -5            9  \n",
       "...                                                 ...  ...          ...  \n",
       "estate-0x959e104e1a4db6317fa58f8295f586e1a978c2...  -17  -25           38  \n",
       "estate-0x959e104e1a4db6317fa58f8295f586e1a978c2...  -17  -24           38  \n",
       "estate-0x959e104e1a4db6317fa58f8295f586e1a978c2...  -16  -26           38  \n",
       "estate-0x959e104e1a4db6317fa58f8295f586e1a978c2...  -16  -25           38  \n",
       "estate-0x959e104e1a4db6317fa58f8295f586e1a978c2...  -16  -24           38  \n",
       "\n",
       "[2304 rows x 14 columns]"
      ]
     },
     "execution_count": 7,
     "metadata": {},
     "output_type": "execute_result"
    }
   ],
   "source": [
    "df"
   ]
  },
  {
   "cell_type": "code",
   "execution_count": 5,
   "metadata": {},
   "outputs": [],
   "source": [
    "from datetime import timedelta"
   ]
  },
  {
   "cell_type": "code",
   "execution_count": 20,
   "metadata": {},
   "outputs": [],
   "source": [
    "now = datetime.now().strftime('%s') + '000'"
   ]
  },
  {
   "cell_type": "code",
   "execution_count": 28,
   "metadata": {},
   "outputs": [],
   "source": [
    "avg_start = (datetime.now()  - timedelta(days=10)).strftime('%s')"
   ]
  },
  {
   "cell_type": "code",
   "execution_count": 29,
   "metadata": {},
   "outputs": [
    {
     "name": "stdout",
     "output_type": "stream",
     "text": [
      "last updated at: 2022-05-12\n"
     ]
    }
   ],
   "source": [
    "df = pd.DataFrame()\n",
    "\n",
    "#update parameter used in mystring to start querying the database at the earliest update date of sale. The update \n",
    "#date is specified in epoch date and needs to be converted to datetime for human consumption.\n",
    "update = avg_start\n",
    "\n",
    "while True:\n",
    "    \n",
    "    #query the data using GraphQL python library.\n",
    "    query = gql(mystring.format(update))\n",
    "    result = client.execute(query)\n",
    "    \n",
    "    #if there is no data returned it means you reached the end and should stop querying.\n",
    "    if len(client.execute(query)['orders']) <= 1:\n",
    "        break\n",
    "   \n",
    "    else:\n",
    "        #Create a temporary dataframe to later append to the final dataframe that compiles all 1000-row dataframes.\n",
    "        df1 = pd.DataFrame()\n",
    "        df1 = pd.DataFrame(result['orders'])\n",
    "        #unfold a subdict into a series of columns.\n",
    "        df1 = df1.join(df1['nft'].apply(pd.Series),lsuffix='_1',rsuffix='_2')     \n",
    "        \n",
    "        #append your temp dataframe to your master dataset.\n",
    "        df = df.append(df1)\n",
    "        \n",
    "        #Pass into the API the max date from your dataset to fetch the next 1000 records.\n",
    "        update = df['updatedAt'].max()\n",
    "        print(\"last updated at: {}\".format(time.strftime('%Y-%m-%d', time.localtime(int(update)))))\n",
    "\n",
    "#reformat the update date in human-readable datetime format.\n",
    "df['updatedAt_dt'] = df['updatedAt'].apply(lambda x: time.strftime('%Y-%m-%d', time.localtime(int(x))) )\n",
    "df['price'] = df['price'].astype(float)/1e18\n",
    "df['owner'] = df.owner.apply(lambda x: x['id'])\n",
    "df['x'] = df.parcel.apply(lambda a: a['x'])\n",
    "df['y'] = df.parcel.apply(lambda a: a['y'])\n",
    "df['parcel_id'] = df.parcel.apply(lambda a: a['id'])"
   ]
  },
  {
   "cell_type": "code",
   "execution_count": 31,
   "metadata": {},
   "outputs": [
    {
     "data": {
      "text/plain": [
       "5266.25974025974"
      ]
     },
     "execution_count": 31,
     "metadata": {},
     "output_type": "execute_result"
    }
   ],
   "source": [
    "df.price.mean()"
   ]
  },
  {
   "cell_type": "markdown",
   "metadata": {
    "heading_collapsed": true
   },
   "source": [
    "# Get historical parcel sales data"
   ]
  },
  {
   "cell_type": "code",
   "execution_count": 11,
   "metadata": {
    "hidden": true
   },
   "outputs": [],
   "source": [
    "## Query string used to get latest parcel transaction information\n",
    "mystring = \"\"\"\n",
    "{{\n",
    "  orders (first: 1000 orderBy: updatedAt, orderDirection: asc where: {{ status:sold category:parcel updatedAt_gt:\"{0}\"}}, subgraphError: allow) {{\n",
    " \n",
    " \n",
    "    category\n",
    "    status\n",
    "    price\n",
    "    id\n",
    "    updatedAt\n",
    "    nft {{\n",
    "      owner {{\n",
    "        id\n",
    "      }}\n",
    "      name\n",
    "      estate {{\n",
    "        id\n",
    "      }}\n",
    "      parcel {{\n",
    "        id\n",
    "        x\n",
    "        y\n",
    "      }}\n",
    "     \n",
    "      owner {{\n",
    "        id\n",
    "      }}\n",
    "    }}\n",
    "   \n",
    "  }}\n",
    " \n",
    "}}\"\"\""
   ]
  },
  {
   "cell_type": "code",
   "execution_count": 10,
   "metadata": {
    "hidden": true
   },
   "outputs": [
    {
     "name": "stdout",
     "output_type": "stream",
     "text": [
      "last updated at: 2018-12-19\n",
      "last updated at: 2019-03-16\n",
      "last updated at: 2019-10-21\n",
      "last updated at: 2020-03-29\n",
      "last updated at: 2021-01-05\n",
      "last updated at: 2021-04-14\n",
      "last updated at: 2021-09-20\n",
      "last updated at: 2021-12-05\n",
      "last updated at: 2022-01-31\n",
      "last updated at: 2022-05-06\n"
     ]
    }
   ],
   "source": [
    "df = pd.DataFrame()\n",
    "\n",
    "#update parameter used in mystring to start querying the database at the earliest update date of sale. The update \n",
    "#date is specified in epoch date and needs to be converted to datetime for human consumption.\n",
    "update = 1\n",
    "\n",
    "while True:\n",
    "    \n",
    "    #query the data using GraphQL python library.\n",
    "    query = gql(mystring.format(update))\n",
    "    result = client.execute(query)\n",
    "    \n",
    "    #if there is no data returned it means you reached the end and should stop querying.\n",
    "    if len(client.execute(query)['orders']) <= 1:\n",
    "        break\n",
    "   \n",
    "    else:\n",
    "        #Create a temporary dataframe to later append to the final dataframe that compiles all 1000-row dataframes.\n",
    "        df1 = pd.DataFrame()\n",
    "        df1 = pd.DataFrame(result['orders'])\n",
    "        #unfold a subdict into a series of columns.\n",
    "        df1 = df1.join(df1['nft'].apply(pd.Series),lsuffix='_1',rsuffix='_2')     \n",
    "        \n",
    "        #append your temp dataframe to your master dataset.\n",
    "        df = df.append(df1)\n",
    "        \n",
    "        #Pass into the API the max date from your dataset to fetch the next 1000 records.\n",
    "        update = df['updatedAt'].max()\n",
    "        print(\"last updated at: {}\".format(time.strftime('%Y-%m-%d', time.localtime(int(update)))))\n",
    "\n",
    "#reformat the update date in human-readable datetime format.\n",
    "df['updatedAt_dt'] = df['updatedAt'].apply(lambda x: time.strftime('%Y-%m-%d', time.localtime(int(x))) )\n",
    "df['price'] = df['price'].astype(float)/1e18\n",
    "df['owner'] = df.owner.apply(lambda x: x['id'])\n",
    "df['x'] = df.parcel.apply(lambda a: a['x'])\n",
    "df['y'] = df.parcel.apply(lambda a: a['y'])\n",
    "df['parcel_id'] = df.parcel.apply(lambda a: a['id'])\n",
    "#df.to_csv('parcel_transactions.csv',index=False)"
   ]
  },
  {
   "cell_type": "markdown",
   "metadata": {
    "heading_collapsed": true
   },
   "source": [
    "# Get historical estate sales data"
   ]
  },
  {
   "cell_type": "code",
   "execution_count": null,
   "metadata": {
    "hidden": true
   },
   "outputs": [],
   "source": [
    "# String used to query estate info\n",
    "mystring = \"\"\"{{\n",
    "  orders (first: 1000 orderBy: updatedAt, orderDirection: asc where: {{ status:sold category:estate updatedAt_gt:\"{0}\"}}, subgraphError: allow) {{\n",
    "    category\n",
    "    price\n",
    "    id\n",
    "    buyer\n",
    "    updatedAt\n",
    "    nft{{\n",
    "      estate{{\n",
    "        id\n",
    "        parcels{{\n",
    "        id\n",
    "        x\n",
    "        y\n",
    "        }}\n",
    "      }}\n",
    "    }}\n",
    "  }}\n",
    "}}\"\"\""
   ]
  },
  {
   "cell_type": "code",
   "execution_count": null,
   "metadata": {
    "hidden": true
   },
   "outputs": [],
   "source": [
    "df = pd.DataFrame()\n",
    "\n",
    "#update parameter used in mystring to start querying the database at the earliest update date of sale. The update \n",
    "#date is specified in epoch date and needs to be converted to datetime for human consumption.\n",
    "update = 1\n",
    "\n",
    "while True:\n",
    "    \n",
    "    #query the data using GraphQL python library.\n",
    "    query = gql(mystring.format(update))\n",
    "    result = client.execute(query)\n",
    "    \n",
    "    #if there is no data returned it means you reached the end and should stop querying.\n",
    "    if len(client.execute(query)['orders']) <= 1:\n",
    "        break\n",
    "   \n",
    "    else:\n",
    "        #Create a temporary dataframe to later append to the final dataframe that compiles all 1000-row dataframes.\n",
    "        df1 = pd.DataFrame()\n",
    "        df1 = pd.DataFrame(result['orders'])\n",
    "        #unfold a subdict into a series of columns.\n",
    "        #df1 = df1.join(df1['nft'].apply(pd.Series),lsuffix='_1',rsuffix='_2')     \n",
    "        \n",
    "        #append your temp dataframe to your master dataset.\n",
    "        df = df.append(df1)\n",
    "        \n",
    "        #Pass into the API the max date from your dataset to fetch the next 1000 records.\n",
    "        update = df['updatedAt'].max()\n",
    "        print(\"last updated at: {}\".format(time.strftime('%Y-%m-%d', time.localtime(int(update)))))\n",
    "\n",
    "#reformat the update date in human-readable datetime format.\n",
    "df['updatedAt_dt'] = df['updatedAt'].apply(lambda x: time.strftime('%Y-%m-%d', time.localtime(int(x))) )\n",
    "df['price'] = df['price'].astype(float)/1e18\n",
    "df['parcels'] = df.nft.apply(lambda x: x['estate']).apply(lambda x: x['parcels']).apply(lambda x: [(int(i['x']),int(i['y'])) for i in x])\n",
    "df['estate_id'] = df.nft.apply(lambda x: x['estate']).apply(lambda x: x['id'])\n",
    "df.to_csv('estate_transactions.csv',index=False)"
   ]
  },
  {
   "cell_type": "markdown",
   "metadata": {
    "heading_collapsed": true
   },
   "source": [
    "# Get ownerships data"
   ]
  },
  {
   "cell_type": "code",
   "execution_count": null,
   "metadata": {
    "hidden": true
   },
   "outputs": [],
   "source": [
    "# String used to query parcel info\n",
    "mystring = \"\"\"\n",
    "{{\n",
    "  parcels (first: 301 orderBy: x where: {{ y_lte:\"{0}\" y_gte:\"{0}\"}} , subgraphError: allow) {{\n",
    "    id\n",
    "    tokenId\n",
    "    owner{{\n",
    "     id\n",
    "    }}\n",
    "    x\n",
    "    y\n",
    "    estate{{\n",
    "     id\n",
    "    }}\n",
    "  }}\n",
    " \n",
    "}}\"\"\""
   ]
  },
  {
   "cell_type": "code",
   "execution_count": null,
   "metadata": {
    "hidden": true
   },
   "outputs": [],
   "source": [
    "df = pd.DataFrame()\n",
    "\n",
    "#update parameter used in mystring to start querying the database at the earliest update date of sale. The update \n",
    "#date is specified in epoch date and needs to be converted to datetime for human consumption.\n",
    "counter = 1\n",
    "\n",
    "for row_num in range(-150,151):\n",
    "    \n",
    "    #query the data using GraphQL python library.\n",
    "    query = gql(mystring.format(row_num))\n",
    "    result = client.execute(query)\n",
    "    \n",
    "    #if there is no data returned it means you reached the end and should stop querying.\n",
    "    if len(client.execute(query)['parcels']) < 1:\n",
    "        break\n",
    "   \n",
    "    else:\n",
    "        #Create a temporary dataframe to later append to the final dataframe that compiles all 1000-row dataframes.\n",
    "        df1 = pd.DataFrame()\n",
    "        df1 = pd.DataFrame(result['parcels'])\n",
    "        \n",
    "        \"\"\"\n",
    "        #unfold a subdict into a series of columns.\n",
    "        df1 = df1.join(df1['nft'].apply(pd.Series),lsuffix='_1',rsuffix='_2')     \n",
    "        \"\"\"\n",
    "        #append your temp dataframe to your master dataset.\n",
    "        df = df.append(df1)\n",
    "        \n",
    "        #Pass into the API the max date from your dataset to fetch the next 1000 records.\n",
    "        print('first {} rows done!'.format(row_num + 151))\n",
    "df['owner'] = df.owner.apply(lambda x: x['id'])\n",
    "df['x'] = df.x.apply(lambda a: int(a))\n",
    "df['y'] = df.y.apply(lambda a: int(a))\n",
    "df.to_csv('decentraland_ownership.csv',index=False)"
   ]
  }
 ],
 "metadata": {
  "kernelspec": {
   "display_name": "Python 3",
   "language": "python",
   "name": "python3"
  },
  "language_info": {
   "codemirror_mode": {
    "name": "ipython",
    "version": 3
   },
   "file_extension": ".py",
   "mimetype": "text/x-python",
   "name": "python",
   "nbconvert_exporter": "python",
   "pygments_lexer": "ipython3",
   "version": "3.7.4"
  }
 },
 "nbformat": 4,
 "nbformat_minor": 4
}
