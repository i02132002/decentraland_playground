{
 "cells": [
  {
   "cell_type": "code",
   "execution_count": 1,
   "metadata": {},
   "outputs": [],
   "source": [
    "grid = [[1, 1, 1, 0],\n",
    "        [0, 1, 1, 0],\n",
    "        [0, 0, 1, 0],\n",
    "        [1, 0, 0, 0]]"
   ]
  },
  {
   "cell_type": "code",
   "execution_count": 5,
   "metadata": {},
   "outputs": [],
   "source": [
    "n=4\n",
    "m=4"
   ]
  },
  {
   "cell_type": "code",
   "execution_count": 10,
   "metadata": {},
   "outputs": [],
   "source": [
    "def find_neighbors(i,j,grid,n,m):\n",
    "    neighbors = set()\n",
    "    for k in range(i-1, i+2):\n",
    "        if k < 0 or k > n-1:\n",
    "            continue\n",
    "        for l in range(j-1, j+2):\n",
    "            if l < 0 or l > m-1:\n",
    "                continue\n",
    "            if grid[k][l] == 1:\n",
    "                neighbors.add((k,l))\n",
    "    return neighbors"
   ]
  },
  {
   "cell_type": "code",
   "execution_count": 14,
   "metadata": {},
   "outputs": [
    {
     "data": {
      "text/plain": [
       "{(0, 0), (0, 1), (0, 2), (1, 1), (1, 2)}"
      ]
     },
     "execution_count": 14,
     "metadata": {},
     "output_type": "execute_result"
    }
   ],
   "source": [
    "find_neighbors(0,1,grid,4,4)"
   ]
  },
  {
   "cell_type": "code",
   "execution_count": 23,
   "metadata": {},
   "outputs": [
    {
     "data": {
      "text/plain": [
       "{(0, 0), (0, 1), (0, 2), (1, 1), (1, 2), (2, 2), (3, 0)}"
      ]
     },
     "execution_count": 23,
     "metadata": {},
     "output_type": "execute_result"
    }
   ],
   "source": [
    "largest"
   ]
  },
  {
   "cell_type": "code",
   "execution_count": 29,
   "metadata": {},
   "outputs": [],
   "source": [
    "def generate_neighbors(i,j,n,m):\n",
    "    neighbors = set()\n",
    "    for k in range(i-1, i+2):\n",
    "        if k < 0 or k > n-1:\n",
    "            continue\n",
    "        for l in range(j-1, j+2):\n",
    "            if l < 0 or l > m-1:\n",
    "                continue\n",
    "            if k==i and l==j:\n",
    "                continue\n",
    "            neighbors.add((k,l))\n",
    "    return neighbors"
   ]
  },
  {
   "cell_type": "code",
   "execution_count": 31,
   "metadata": {},
   "outputs": [
    {
     "data": {
      "text/plain": [
       "{(0, 1), (1, 0), (1, 1)}"
      ]
     },
     "execution_count": 31,
     "metadata": {},
     "output_type": "execute_result"
    }
   ],
   "source": [
    "generate_neighbors(0,0,4,4)"
   ]
  },
  {
   "cell_type": "code",
   "execution_count": 49,
   "metadata": {},
   "outputs": [
    {
     "data": {
      "text/plain": [
       "(0, 0)"
      ]
     },
     "execution_count": 49,
     "metadata": {},
     "output_type": "execute_result"
    }
   ],
   "source": [
    "point"
   ]
  },
  {
   "cell_type": "code",
   "execution_count": 60,
   "metadata": {},
   "outputs": [],
   "source": [
    "ones = []\n",
    "for i in range(n):\n",
    "    for j in range(m):\n",
    "        if grid[i][j] == 1:\n",
    "            ones.append((i,j))"
   ]
  },
  {
   "cell_type": "code",
   "execution_count": 62,
   "metadata": {},
   "outputs": [],
   "source": [
    "regions = []\n",
    "largest = []\n",
    "while len(largest) <= len(ones):\n",
    "    largest = []\n",
    "    for point in ones:\n",
    "        largest.append(point)\n",
    "        ones.remove(point)\n",
    "        neighbors = generate_neighbors(point[0],point[1],n,m)\n",
    "        for neighbor in neighbors:\n",
    "            if neighbor in ones:\n",
    "                largest.append(neighbor)\n",
    "                ones.remove(neighbor)\n",
    "return len(largest)\n",
    "    \n",
    "\n",
    "    \n",
    "\n",
    "\n",
    "    "
   ]
  },
  {
   "cell_type": "code",
   "execution_count": 64,
   "metadata": {},
   "outputs": [
    {
     "data": {
      "text/plain": [
       "[(0, 0), (0, 1), (1, 1), (1, 2), (0, 2), (2, 2)]"
      ]
     },
     "execution_count": 64,
     "metadata": {},
     "output_type": "execute_result"
    }
   ],
   "source": [
    "largest"
   ]
  },
  {
   "cell_type": "code",
   "execution_count": 65,
   "metadata": {
    "scrolled": true
   },
   "outputs": [
    {
     "data": {
      "text/plain": [
       "[(3, 0)]"
      ]
     },
     "execution_count": 65,
     "metadata": {},
     "output_type": "execute_result"
    }
   ],
   "source": [
    "ones"
   ]
  }
 ],
 "metadata": {
  "kernelspec": {
   "display_name": "Python 3",
   "language": "python",
   "name": "python3"
  },
  "language_info": {
   "codemirror_mode": {
    "name": "ipython",
    "version": 3
   },
   "file_extension": ".py",
   "mimetype": "text/x-python",
   "name": "python",
   "nbconvert_exporter": "python",
   "pygments_lexer": "ipython3",
   "version": "3.7.4"
  }
 },
 "nbformat": 4,
 "nbformat_minor": 2
}
